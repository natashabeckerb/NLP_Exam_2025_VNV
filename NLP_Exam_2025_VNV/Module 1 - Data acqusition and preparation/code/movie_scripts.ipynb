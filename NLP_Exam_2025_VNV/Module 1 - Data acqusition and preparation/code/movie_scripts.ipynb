{
 "cells": [
  {
   "cell_type": "markdown",
   "metadata": {},
   "source": [
    "# Importing packages"
   ]
  },
  {
   "cell_type": "code",
   "execution_count": 1,
   "metadata": {},
   "outputs": [
    {
     "name": "stdout",
     "output_type": "stream",
     "text": [
      "Defaulting to user installation because normal site-packages is not writeable\n",
      "Requirement already satisfied: pandas in /home/ucloud/.local/lib/python3.10/site-packages (2.2.3)\n",
      "Requirement already satisfied: numpy>=1.22.4 in /home/ucloud/.local/lib/python3.10/site-packages (from pandas) (2.2.1)\n",
      "Requirement already satisfied: python-dateutil>=2.8.2 in /home/ucloud/.local/lib/python3.10/site-packages (from pandas) (2.9.0.post0)\n",
      "Requirement already satisfied: pytz>=2020.1 in /home/ucloud/.local/lib/python3.10/site-packages (from pandas) (2024.2)\n",
      "Requirement already satisfied: tzdata>=2022.7 in /home/ucloud/.local/lib/python3.10/site-packages (from pandas) (2024.2)\n",
      "Requirement already satisfied: six>=1.5 in /usr/lib/python3/dist-packages (from python-dateutil>=2.8.2->pandas) (1.16.0)\n",
      "\n",
      "\u001b[1m[\u001b[0m\u001b[34;49mnotice\u001b[0m\u001b[1;39;49m]\u001b[0m\u001b[39;49m A new release of pip is available: \u001b[0m\u001b[31;49m24.0\u001b[0m\u001b[39;49m -> \u001b[0m\u001b[32;49m24.3.1\u001b[0m\n",
      "\u001b[1m[\u001b[0m\u001b[34;49mnotice\u001b[0m\u001b[1;39;49m]\u001b[0m\u001b[39;49m To update, run: \u001b[0m\u001b[32;49mpip install --upgrade pip\u001b[0m\n",
      "Defaulting to user installation because normal site-packages is not writeable\n",
      "\u001b[31mERROR: Could not find a version that satisfies the requirement re (from versions: none)\u001b[0m\u001b[31m\n",
      "\u001b[0m\u001b[31mERROR: No matching distribution found for re\u001b[0m\u001b[31m\n",
      "\u001b[0m\n",
      "\u001b[1m[\u001b[0m\u001b[34;49mnotice\u001b[0m\u001b[1;39;49m]\u001b[0m\u001b[39;49m A new release of pip is available: \u001b[0m\u001b[31;49m24.0\u001b[0m\u001b[39;49m -> \u001b[0m\u001b[32;49m24.3.1\u001b[0m\n",
      "\u001b[1m[\u001b[0m\u001b[34;49mnotice\u001b[0m\u001b[1;39;49m]\u001b[0m\u001b[39;49m To update, run: \u001b[0m\u001b[32;49mpip install --upgrade pip\u001b[0m\n",
      "Defaulting to user installation because normal site-packages is not writeable\n",
      "Requirement already satisfied: gender-guesser in /home/ucloud/.local/lib/python3.10/site-packages (0.4.0)\n",
      "\n",
      "\u001b[1m[\u001b[0m\u001b[34;49mnotice\u001b[0m\u001b[1;39;49m]\u001b[0m\u001b[39;49m A new release of pip is available: \u001b[0m\u001b[31;49m24.0\u001b[0m\u001b[39;49m -> \u001b[0m\u001b[32;49m24.3.1\u001b[0m\n",
      "\u001b[1m[\u001b[0m\u001b[34;49mnotice\u001b[0m\u001b[1;39;49m]\u001b[0m\u001b[39;49m To update, run: \u001b[0m\u001b[32;49mpip install --upgrade pip\u001b[0m\n",
      "Defaulting to user installation because normal site-packages is not writeable\n",
      "Requirement already satisfied: genderize in /home/ucloud/.local/lib/python3.10/site-packages (0.3.1)\n",
      "Requirement already satisfied: requests>=1.0.0 in /home/ucloud/.local/lib/python3.10/site-packages (from genderize) (2.31.0)\n",
      "Requirement already satisfied: charset-normalizer<4,>=2 in /home/ucloud/.local/lib/python3.10/site-packages (from requests>=1.0.0->genderize) (3.3.2)\n",
      "Requirement already satisfied: idna<4,>=2.5 in /home/ucloud/.local/lib/python3.10/site-packages (from requests>=1.0.0->genderize) (3.6)\n",
      "Requirement already satisfied: urllib3<3,>=1.21.1 in /home/ucloud/.local/lib/python3.10/site-packages (from requests>=1.0.0->genderize) (2.2.1)\n",
      "Requirement already satisfied: certifi>=2017.4.17 in /home/ucloud/.local/lib/python3.10/site-packages (from requests>=1.0.0->genderize) (2024.2.2)\n",
      "\n",
      "\u001b[1m[\u001b[0m\u001b[34;49mnotice\u001b[0m\u001b[1;39;49m]\u001b[0m\u001b[39;49m A new release of pip is available: \u001b[0m\u001b[31;49m24.0\u001b[0m\u001b[39;49m -> \u001b[0m\u001b[32;49m24.3.1\u001b[0m\n",
      "\u001b[1m[\u001b[0m\u001b[34;49mnotice\u001b[0m\u001b[1;39;49m]\u001b[0m\u001b[39;49m To update, run: \u001b[0m\u001b[32;49mpip install --upgrade pip\u001b[0m\n",
      "Defaulting to user installation because normal site-packages is not writeable\n",
      "Requirement already satisfied: matplotlib in /home/ucloud/.local/lib/python3.10/site-packages (3.10.0)\n",
      "Requirement already satisfied: contourpy>=1.0.1 in /home/ucloud/.local/lib/python3.10/site-packages (from matplotlib) (1.3.1)\n",
      "Requirement already satisfied: cycler>=0.10 in /home/ucloud/.local/lib/python3.10/site-packages (from matplotlib) (0.12.1)\n",
      "Requirement already satisfied: fonttools>=4.22.0 in /home/ucloud/.local/lib/python3.10/site-packages (from matplotlib) (4.55.3)\n",
      "Requirement already satisfied: kiwisolver>=1.3.1 in /home/ucloud/.local/lib/python3.10/site-packages (from matplotlib) (1.4.8)\n",
      "Requirement already satisfied: numpy>=1.23 in /home/ucloud/.local/lib/python3.10/site-packages (from matplotlib) (2.2.1)\n",
      "Requirement already satisfied: packaging>=20.0 in /home/ucloud/.local/lib/python3.10/site-packages (from matplotlib) (24.0)\n",
      "Requirement already satisfied: pillow>=8 in /home/ucloud/.local/lib/python3.10/site-packages (from matplotlib) (11.1.0)\n",
      "Requirement already satisfied: pyparsing>=2.3.1 in /usr/lib/python3/dist-packages (from matplotlib) (2.4.7)\n",
      "Requirement already satisfied: python-dateutil>=2.7 in /home/ucloud/.local/lib/python3.10/site-packages (from matplotlib) (2.9.0.post0)\n",
      "Requirement already satisfied: six>=1.5 in /usr/lib/python3/dist-packages (from python-dateutil>=2.7->matplotlib) (1.16.0)\n",
      "\n",
      "\u001b[1m[\u001b[0m\u001b[34;49mnotice\u001b[0m\u001b[1;39;49m]\u001b[0m\u001b[39;49m A new release of pip is available: \u001b[0m\u001b[31;49m24.0\u001b[0m\u001b[39;49m -> \u001b[0m\u001b[32;49m24.3.1\u001b[0m\n",
      "\u001b[1m[\u001b[0m\u001b[34;49mnotice\u001b[0m\u001b[1;39;49m]\u001b[0m\u001b[39;49m To update, run: \u001b[0m\u001b[32;49mpip install --upgrade pip\u001b[0m\n",
      "Defaulting to user installation because normal site-packages is not writeable\n",
      "\u001b[31mERROR: Could not find a version that satisfies the requirement random (from versions: none)\u001b[0m\u001b[31m\n",
      "\u001b[0m\u001b[31mERROR: No matching distribution found for random\u001b[0m\u001b[31m\n",
      "\u001b[0m\n",
      "\u001b[1m[\u001b[0m\u001b[34;49mnotice\u001b[0m\u001b[1;39;49m]\u001b[0m\u001b[39;49m A new release of pip is available: \u001b[0m\u001b[31;49m24.0\u001b[0m\u001b[39;49m -> \u001b[0m\u001b[32;49m24.3.1\u001b[0m\n",
      "\u001b[1m[\u001b[0m\u001b[34;49mnotice\u001b[0m\u001b[1;39;49m]\u001b[0m\u001b[39;49m To update, run: \u001b[0m\u001b[32;49mpip install --upgrade pip\u001b[0m\n"
     ]
    }
   ],
   "source": [
    "!pip install pandas\n",
    "!pip install re\n",
    "!pip install gender-guesser\n",
    "!pip install genderize\n",
    "!pip install matplotlib\n",
    "!pip install random"
   ]
  },
  {
   "cell_type": "code",
   "execution_count": 2,
   "metadata": {},
   "outputs": [],
   "source": [
    "import os\n",
    "import pandas as pd\n",
    "import re\n",
    "import gender_guesser.detector as gender\n",
    "import matplotlib.pyplot as plt\n",
    "import random\n",
    "\n",
    "from genderize import Genderize, GenderizeException"
   ]
  },
  {
   "cell_type": "markdown",
   "metadata": {},
   "source": [
    "# Set working directory"
   ]
  },
  {
   "cell_type": "code",
   "execution_count": 3,
   "metadata": {},
   "outputs": [
    {
     "name": "stdout",
     "output_type": "stream",
     "text": [
      "/work/VNV/Module 1 - Data acqusition and preparation\n"
     ]
    }
   ],
   "source": [
    "os.chdir(\"/work/VNV/Module 1 - Data acqusition and preparation\")\n",
    "print(os.getcwd())\n",
    "\n",
    "# set a seed\n",
    "random.seed(76)"
   ]
  },
  {
   "cell_type": "markdown",
   "metadata": {},
   "source": [
    "# The Cornell Movie-Dialog Corpus\n",
    "Link: https://www.kaggle.com/datasets/rajathmc/cornell-moviedialog-corpus\n",
    "\n",
    "This corpus has several txt-files that need to be cleaned and combined in order to get the dataframe that we are interested in. Those marked in **bold** are the ones we are focusing on\n",
    "\n",
    "movie_characters_metadata.txt contains:\\\n",
    "    - **characterID**\\\n",
    "    - **character name**\\\n",
    "    - movieID\\\n",
    "    - movie title\\\n",
    "    - **gender** (\"?\" for unlabeled cases)\\\n",
    "    - position in credits (\"?\" for unlabeled cases)\n",
    "\n",
    "movie_lines.txt contains:\\\n",
    "    - lineID\\\n",
    "    - **characterID** (who uttered this phrase)\\\n",
    "    - movieID\\\n",
    "    - **character name**\\\n",
    "    - **text of the utterance**\n",
    "\n",
    "movie_titles_metadata.txt contains:\\\n",
    "    - movieID\\\n",
    "    - movie title\\\n",
    "    - **movie year**\\\n",
    "    - IMDB rating\\\n",
    "    - no. IMDB votes\\\n",
    "    - genres in the format ['genre1','genre2','genreN']"
   ]
  },
  {
   "cell_type": "markdown",
   "metadata": {},
   "source": [
    "## Movie_characters_metadata"
   ]
  },
  {
   "cell_type": "markdown",
   "metadata": {},
   "source": [
    "### Cleaning the data"
   ]
  },
  {
   "cell_type": "code",
   "execution_count": 4,
   "metadata": {},
   "outputs": [
    {
     "name": "stdout",
     "output_type": "stream",
     "text": [
      "  characterID character_name movieID                   movie_title gender  \\\n",
      "0         u0         BIANCA      m0    10 things i hate about you      f    \n",
      "1         u1          BRUCE      m0    10 things i hate about you      ?    \n",
      "2         u2        CAMERON      m0    10 things i hate about you      m    \n",
      "3         u3       CHASTITY      m0    10 things i hate about you      ?    \n",
      "4         u4           JOEY      m0    10 things i hate about you      m    \n",
      "\n",
      "  position_in_credits  \n",
      "0                   4  \n",
      "1                   ?  \n",
      "2                   3  \n",
      "3                   ?  \n",
      "4                   6  \n"
     ]
    }
   ],
   "source": [
    "# Read the file lines\n",
    "with open('/work/VNV/Module 1 - Data acqusition and preparation/data/movie_characters_metadata.txt', 'r', encoding='latin1') as file:\n",
    "    lines = file.readlines()\n",
    "\n",
    "# Split each line into columns based on the '+++$$+++' delimiter\n",
    "split_lines = [line.strip().split(r'+++$+++') for line in lines]\n",
    "\n",
    "# Ensure all rows have the expected number of columns\n",
    "split_lines = [line for line in split_lines if len(line) == 6]\n",
    "\n",
    "# Convert the list of split lines into a DataFrame\n",
    "cornell_movie_meta_df = pd.DataFrame(split_lines, columns=['characterID', 'character_name', 'movieID', 'movie_title', 'gender', 'position_in_credits'])\n",
    "\n",
    "# Display the first few rows of the DataFrame\n",
    "print(cornell_movie_meta_df.head())"
   ]
  },
  {
   "cell_type": "code",
   "execution_count": 5,
   "metadata": {},
   "outputs": [
    {
     "name": "stdout",
     "output_type": "stream",
     "text": [
      "[' f ' ' ? ' ' m ' ' M ' ' F ']\n",
      "['f' '?' 'm']\n"
     ]
    }
   ],
   "source": [
    "# Check the unique values for gender\n",
    "print(cornell_movie_meta_df['gender'].unique())\n",
    "\n",
    "# Strip leading and trailing spaces from the columns\n",
    "cornell_movie_meta_df['gender'] = cornell_movie_meta_df['gender'].str.strip()\n",
    "cornell_movie_meta_df['character_name'] = cornell_movie_meta_df['character_name'].str.strip()\n",
    "\n",
    "# Normalize the character names by capitalizing the first letter of each word - VERY IMPORTANT FOR GENDER-GUESSER TO WORK \n",
    "cornell_movie_meta_df['character_name'] = cornell_movie_meta_df['character_name'].str.title()\n",
    "\n",
    "# Replace uppercase variations of gender with lowercase 'f' and 'm' for the 'gender' column\n",
    "cornell_movie_meta_df['gender'] = cornell_movie_meta_df['gender'].replace({'F': 'f', 'M': 'm'})\n",
    "\n",
    "# Check the unique values again\n",
    "print(cornell_movie_meta_df['gender'].unique())\n",
    "\n",
    "# Save the cleaned dataFrame to a CSV file DO WE NEED?\n",
    "cornell_movie_meta_df.to_csv('/work/VNV/Module 1 - Data acqusition and preparation/data/clean_cornell.csv', index=False)"
   ]
  },
  {
   "cell_type": "markdown",
   "metadata": {},
   "source": [
    "### Check if the composition of gendered/non-gendered is the same as the documentation states"
   ]
  },
  {
   "cell_type": "code",
   "execution_count": 6,
   "metadata": {},
   "outputs": [
    {
     "name": "stdout",
     "output_type": "stream",
     "text": [
      "['f' '?' 'm']\n"
     ]
    }
   ],
   "source": [
    "# Check the unique values in gender\n",
    "print(cornell_movie_meta_df['gender'].unique())"
   ]
  },
  {
   "cell_type": "code",
   "execution_count": 7,
   "metadata": {},
   "outputs": [
    {
     "name": "stdout",
     "output_type": "stream",
     "text": [
      "gender\n",
      "?    6020\n",
      "m    2049\n",
      "f     966\n",
      "Name: count, dtype: int64\n"
     ]
    }
   ],
   "source": [
    "print(cornell_movie_meta_df['gender'].value_counts())"
   ]
  },
  {
   "cell_type": "markdown",
   "metadata": {},
   "source": [
    "### The composition is not same - let's back up\n",
    "3015 are gendered here, comapred to the 3774 that the documentation states should be gendered. Therefore we go back and try to check the composition from the txt-file while preprocessing it as little as possible. Although, the overall number of characters is in accordance with the literature, which indicates that 3015 is the correct number"
   ]
  },
  {
   "cell_type": "code",
   "execution_count": 8,
   "metadata": {},
   "outputs": [
    {
     "name": "stdout",
     "output_type": "stream",
     "text": [
      "Gender counts: {'f': 921, '?': 6020, 'm': 1899, 'M': 150, 'F': 45}\n"
     ]
    }
   ],
   "source": [
    "# Read the file lines\n",
    "with open('/work/VNV/Module 1 - Data acqusition and preparation/data/movie_characters_metadata.txt', 'r', encoding='latin1') as file:\n",
    "    lines = file.readlines()\n",
    "\n",
    "# Initialize a counter dictionary to count occurrences of different gender labels\n",
    "gender_counts = {'f': 0, '?': 0, 'm': 0, 'M': 0, 'F': 0}\n",
    "\n",
    "# Loop through each line and process the 5th input after '+++$$+++'\n",
    "for line in lines:\n",
    "    # Split the line by the delimiter\n",
    "    parts = line.split('+++$+++')\n",
    "    \n",
    "    # Check if the line has at least 5 parts (5th input should exist)\n",
    "    if len(parts) >= 5:\n",
    "        gender = parts[4].strip()  # Gender is the 5th element (after 4th '+++$$+++')\n",
    "        \n",
    "        # Increment the corresponding gender count if it's in our dictionary\n",
    "        if gender in gender_counts:\n",
    "            gender_counts[gender] += 1\n",
    "\n",
    "# Print the counts of each gender label\n",
    "print(\"Gender counts:\", gender_counts)\n"
   ]
  },
  {
   "cell_type": "markdown",
   "metadata": {},
   "source": [
    "**Based on this we determine that 3015 is the actual number of gendered characters.**"
   ]
  },
  {
   "cell_type": "markdown",
   "metadata": {},
   "source": [
    "## Inferring gender using \"gender-guesser\" and \"genderize\"\n",
    "Only 3,774 characters out of 9,035 have a gender annotation. To boost these numbers we want to infer gender of the character based on the name. We do this using both \"gender-guessser\" and \"genderize\" to hopefully boost accuracy.\n",
    "\n",
    "Gender-guesser: https://pypi.org/project/gender-guesser/\n",
    "\n",
    "Genderize: https://genderize.io/"
   ]
  },
  {
   "cell_type": "markdown",
   "metadata": {},
   "source": [
    "### **Using Genderize**"
   ]
  },
  {
   "cell_type": "code",
   "execution_count": 9,
   "metadata": {},
   "outputs": [
    {
     "name": "stdout",
     "output_type": "stream",
     "text": [
      "Name: Bianca, Genderize result: [{'count': 222327, 'name': 'Bianca', 'gender': 'female', 'probability': 0.99}]\n",
      "Name: Bruce, Genderize result: [{'count': 217022, 'name': 'Bruce', 'gender': 'male', 'probability': 1.0}]\n",
      "Name: Cameron, Genderize result: [{'count': 35922, 'name': 'Cameron', 'gender': 'male', 'probability': 0.94}]\n",
      "Name: Chastity, Genderize result: [{'count': 3666, 'name': 'Chastity', 'gender': 'female', 'probability': 1.0}]\n",
      "Name: Joey, Genderize result: [{'count': 59100, 'name': 'Joey', 'gender': 'male', 'probability': 0.8}]\n",
      "Name: Sam, Genderize result: [{'count': 645671, 'name': 'Sam', 'gender': 'male', 'probability': 0.9}]\n"
     ]
    }
   ],
   "source": [
    "# Trying out Genderize\n",
    "\n",
    "# Defining our API key\n",
    "API_key = \"freebie-17c383ac-f296-4448-bb9f-2758878e0b2e\"\n",
    "\n",
    "# Initialize Genderize\n",
    "genderize = Genderize(api_key=API_key)\n",
    "\n",
    "# Test a few character names\n",
    "test_names = ['Bianca', 'Bruce', 'Cameron', 'Chastity', 'Joey', 'Sam']\n",
    "\n",
    "for name in test_names:\n",
    "    result = genderize.get([name])\n",
    "    print(f\"Name: {name}, Genderize result: {result}\")"
   ]
  },
  {
   "cell_type": "markdown",
   "metadata": {},
   "source": [
    "#### Looping over the rows"
   ]
  },
  {
   "cell_type": "code",
   "execution_count": 10,
   "metadata": {},
   "outputs": [
    {
     "name": "stdout",
     "output_type": "stream",
     "text": [
      "Error for ManS Voice: (\"Invalid UTF8 in 'name' parameter\", 422, {'Server': 'nginx/1.16.1', 'Date': 'Thu, 02 Jan 2025 15:54:20 GMT', 'Content-Type': 'application/json', 'Content-Length': '44', 'Connection': 'keep-alive', 'vary': 'accept-encoding', 'cache-control': 'max-age=0, private, must-revalidate', 'x-request-id': 'GBbrJ18D3SlNFaIfIzei', 'access-control-allow-credentials': 'true', 'access-control-allow-origin': '*', 'access-control-expose-headers': 'x-rate-limit-limit,x-rate-limit-remaining,x-rate-limit-reset'})\n",
      "  characterID character_name movieID                   movie_title gender  \\\n",
      "0         u0          Bianca     m0    10 things i hate about you       f   \n",
      "1         u1           Bruce     m0    10 things i hate about you       ?   \n",
      "2         u2         Cameron     m0    10 things i hate about you       m   \n",
      "3         u3        Chastity     m0    10 things i hate about you       ?   \n",
      "4         u4            Joey     m0    10 things i hate about you       m   \n",
      "\n",
      "  position_in_credits genderize_gender  \n",
      "0                   4                f  \n",
      "1                   ?                m  \n",
      "2                   3                m  \n",
      "3                   ?                f  \n",
      "4                   6                m  \n",
      "No. of predictions generated by Genderize: 7831\n"
     ]
    }
   ],
   "source": [
    "# Create a copy of the original DataFrame to keep it intact\n",
    "genderize_labels = cornell_movie_meta_df.copy()\n",
    "\n",
    "# Defining our API key\n",
    "API_key = \"freebie-17c383ac-f296-4448-bb9f-2758878e0b2e\"\n",
    "\n",
    "# Initialize Genderize\n",
    "genderize = Genderize(api_key=API_key)\n",
    "\n",
    "# Initialize a counter to keep track of how many predictions are made\n",
    "genderize_prediction_counter = 0\n",
    "\n",
    "# Loop through each row and apply the logic\n",
    "for index, row in genderize_labels.iterrows():\n",
    "    try:\n",
    "        # Get a prediction of gender from the Genderize API based on the character's name\n",
    "        result = genderize.get([row['character_name']])\n",
    "        \n",
    "        # Only update gender if the probability of the prediction by Genderize is above 0.9\n",
    "        if result and result[0].get('probability') > 0.7:\n",
    "            \n",
    "            # Map the gender to \"m\" for male and \"f\" for female\n",
    "            predicted_gender = result[0]['gender']\n",
    "            if predicted_gender == 'male':\n",
    "                genderize_labels.at[index, 'genderize_gender'] = 'm'\n",
    "                genderize_prediction_counter += 1  # Increment the counter\n",
    "            elif predicted_gender == 'female':\n",
    "                genderize_labels.at[index, 'genderize_gender'] = 'f'\n",
    "                genderize_prediction_counter += 1  # Increment the counter\n",
    "            else:\n",
    "                genderize_labels.at[index, 'genderize_gender'] = '?'\n",
    "\n",
    "    # If an error occurs, print the character name that caused it\n",
    "    except GenderizeException as e:\n",
    "        print(f\"Error for {row['character_name']}: {e}\")\n",
    "        # Continue with the next row even if an error occurs\n",
    "        continue\n",
    "\n",
    "# Save the DataFrame to a CSV file\n",
    "genderize_labels.to_csv('/work/VNV/Module 1 - Data acqusition and preparation/output/genderize_labels.csv', index=False)\n",
    "\n",
    "# Check that the result looks as expected\n",
    "print(genderize_labels.head())\n",
    "print(f\"No. of predictions generated by Genderize: {genderize_prediction_counter}\")"
   ]
  },
  {
   "cell_type": "markdown",
   "metadata": {},
   "source": [
    "### Looking at how many characters are left with no gender label and what names they have"
   ]
  },
  {
   "cell_type": "code",
   "execution_count": 11,
   "metadata": {},
   "outputs": [
    {
     "name": "stdout",
     "output_type": "stream",
     "text": [
      "gender\n",
      "?    6020\n",
      "m    2049\n",
      "f     966\n",
      "Name: count, dtype: int64\n",
      "gender\n",
      "?    6020\n",
      "m    2049\n",
      "f     966\n",
      "Name: count, dtype: int64\n"
     ]
    }
   ],
   "source": [
    "# Count the number of instances of f, m and ? in the original dataset\n",
    "print(cornell_movie_meta_df['gender'].value_counts())\n",
    "\n",
    "# Count the number of instances of f, m and ? in the Genderize modified dataset\n",
    "print(genderize_labels['gender'].value_counts())"
   ]
  },
  {
   "cell_type": "markdown",
   "metadata": {},
   "source": [
    "### Looking at the names that Genderize could not predict a gender for with 90% certainty"
   ]
  },
  {
   "cell_type": "code",
   "execution_count": 12,
   "metadata": {},
   "outputs": [
    {
     "name": "stdout",
     "output_type": "stream",
     "text": [
      "1                   Bruce\n",
      "3                Chastity\n",
      "8              Miss Perky\n",
      "10                 Sharon\n",
      "12                 Alonso\n",
      "13                 Arojaz\n",
      "14                Beatrix\n",
      "15              Bobadilla\n",
      "17               Fernando\n",
      "18                 Isabel\n",
      "20                 Mendez\n",
      "21                 Moxica\n",
      "22                 Pinzon\n",
      "23                 Sailor\n",
      "24                Sanchez\n",
      "25                 Utapan\n",
      "28                  Duffy\n",
      "31                Hawkins\n",
      "32                  Honey\n",
      "33    Immigration Officer\n",
      "36                   Leon\n",
      "37                 Maggie\n",
      "38                    Max\n",
      "39                  Milos\n",
      "40                 Mugger\n",
      "43         Robert Hawkins\n",
      "44                   Rose\n",
      "45      Secondary Officer\n",
      "46         Stephen Geller\n",
      "47                  Tommy\n",
      "48                 Vendor\n",
      "49                    B20\n",
      "51                    C12\n",
      "52                  Child\n",
      "53               Co-Pilot\n",
      "54                  Elena\n",
      "55                  Floyd\n",
      "57               Michaels\n",
      "58                 Miller\n",
      "59                  Pilot\n",
      "61                Smyslov\n",
      "62              Attendant\n",
      "63              Bartender\n",
      "64                  Billy\n",
      "65                  Candy\n",
      "66                  Casey\n",
      "69                   Ganz\n",
      "70                  Haden\n",
      "72                  Henry\n",
      "73                  Kehoe\n",
      "Name: character_name, dtype: object\n"
     ]
    }
   ],
   "source": [
    "# Filter the DataFrame to get rows with missing gender\n",
    "missing_genderizer_df = genderize_labels[genderize_labels['gender'] == '?']\n",
    "\n",
    "# Display the first 50 names with missing gender\n",
    "print(missing_genderizer_df['character_name'].head(50))"
   ]
  },
  {
   "cell_type": "markdown",
   "metadata": {},
   "source": [
    "### **Using gender-guesser**"
   ]
  },
  {
   "cell_type": "markdown",
   "metadata": {},
   "source": [
    "#### Trying gender-guesser out"
   ]
  },
  {
   "cell_type": "code",
   "execution_count": 13,
   "metadata": {},
   "outputs": [
    {
     "name": "stdout",
     "output_type": "stream",
     "text": [
      "Name: Bruce - Detected Gender: male\n",
      "Name: Cameron - Detected Gender: mostly_male\n",
      "Name: Bianca - Detected Gender: female\n",
      "Name: Chastity - Detected Gender: female\n",
      "Name: Joey - Detected Gender: male\n",
      "Name: Sharon - Detected Gender: female\n"
     ]
    }
   ],
   "source": [
    "import gender_guesser.detector as gender_detector\n",
    "\n",
    "# Initialize the Gender-Guesser detector\n",
    "d = gender_detector.Detector()\n",
    "\n",
    "# Function to get gender for a list of names\n",
    "def get_genders(names):\n",
    "    for name in names:\n",
    "        detected_gender = d.get_gender(name)\n",
    "        print(f\"Name: {name} - Detected Gender: {detected_gender}\")\n",
    "\n",
    "# Input names to test\n",
    "names_to_test = [\"Bruce\", \"Cameron\", \"Bianca\", \"Chastity\", \"Joey\", \"Sharon\"]\n",
    "\n",
    "# Get the gender predictions\n",
    "get_genders(names_to_test)"
   ]
  },
  {
   "cell_type": "code",
   "execution_count": 14,
   "metadata": {},
   "outputs": [
    {
     "name": "stdout",
     "output_type": "stream",
     "text": [
      "  characterID character_name movieID                   movie_title gender  \\\n",
      "0         u0          Bianca     m0    10 things i hate about you       f   \n",
      "1         u1           Bruce     m0    10 things i hate about you       ?   \n",
      "2         u2         Cameron     m0    10 things i hate about you       m   \n",
      "3         u3        Chastity     m0    10 things i hate about you       ?   \n",
      "4         u4            Joey     m0    10 things i hate about you       m   \n",
      "\n",
      "  position_in_credits genderguesser_gender  \n",
      "0                   4                    f  \n",
      "1                   ?                    m  \n",
      "2                   3                    m  \n",
      "3                   ?                    f  \n",
      "4                   6                    m  \n",
      "No. of predictions generated by Gender-Guesser: 4160\n"
     ]
    }
   ],
   "source": [
    "import gender_guesser.detector as gender_detector\n",
    "\n",
    "# Create a copy of the original DataFrame to keep it intact\n",
    "genderguesser_labels = cornell_movie_meta_df.copy()\n",
    "\n",
    "# Initialize Gender-Guesser\n",
    "d = gender_detector.Detector()\n",
    "\n",
    "# Initialize a counter to keep track of how many predictions are made\n",
    "genderguesser_prediction_counter = 0\n",
    "\n",
    "# Loop through each row and apply the logic\n",
    "for index, row in genderguesser_labels.iterrows():\n",
    "\n",
    "    # Query the Gender-Guesser with the character's name\n",
    "    detected_gender = d.get_gender(row['character_name'])\n",
    "    \n",
    "    # Adjust gender values: 'male' and 'mostly_male' to 'm', 'female' and 'mostly_female' to 'f'\n",
    "    if detected_gender in ['male', 'mostly_male']:\n",
    "        genderguesser_labels.at[index, 'genderguesser_gender'] = 'm'  # Set to 'm' for male\n",
    "        genderguesser_prediction_counter += 1  # Increment the counter\n",
    "    elif detected_gender in ['female', 'mostly_female']:\n",
    "        genderguesser_labels.at[index, 'genderguesser_gender'] = 'f'  # Set to 'f' for female\n",
    "        genderguesser_prediction_counter += 1  # Increment the counter\n",
    "    elif detected_gender == 'unknown':\n",
    "        genderguesser_labels.at[index, 'genderguesser_gender'] = '?'  # Leave '?' if unknown\n",
    "\n",
    "# Save the DataFrame to a CSV file\n",
    "genderguesser_labels.to_csv('/work/VNV/Module 1 - Data acqusition and preparation/output/genderguesser_labels.csv', index=False)\n",
    "\n",
    "# Check the result\n",
    "print(genderguesser_labels.head())\n",
    "print(f\"No. of predictions generated by Gender-Guesser: {genderguesser_prediction_counter}\")"
   ]
  },
  {
   "cell_type": "markdown",
   "metadata": {},
   "source": [
    "### Looking at how many characters are left with no gender label and what names they have"
   ]
  },
  {
   "cell_type": "code",
   "execution_count": 15,
   "metadata": {},
   "outputs": [
    {
     "name": "stdout",
     "output_type": "stream",
     "text": [
      "gender\n",
      "?    6020\n",
      "m    2049\n",
      "f     966\n",
      "Name: count, dtype: int64\n",
      "gender\n",
      "?    6020\n",
      "m    2049\n",
      "f     966\n",
      "Name: count, dtype: int64\n"
     ]
    }
   ],
   "source": [
    "# Count the number of instances of f, m and ? in the original dataset\n",
    "print(cornell_movie_meta_df['gender'].value_counts())\n",
    "\n",
    "# Count the number of instances of f, m and ? in the Gender-Guesser modified dataset\n",
    "print(genderguesser_labels['gender'].value_counts())"
   ]
  },
  {
   "cell_type": "markdown",
   "metadata": {},
   "source": [
    "### Looking at the names that Gender-Guesser could not predict a gender for"
   ]
  },
  {
   "cell_type": "code",
   "execution_count": 16,
   "metadata": {},
   "outputs": [
    {
     "name": "stdout",
     "output_type": "stream",
     "text": [
      "1                   Bruce\n",
      "3                Chastity\n",
      "8              Miss Perky\n",
      "10                 Sharon\n",
      "12                 Alonso\n",
      "13                 Arojaz\n",
      "14                Beatrix\n",
      "15              Bobadilla\n",
      "17               Fernando\n",
      "18                 Isabel\n",
      "20                 Mendez\n",
      "21                 Moxica\n",
      "22                 Pinzon\n",
      "23                 Sailor\n",
      "24                Sanchez\n",
      "25                 Utapan\n",
      "28                  Duffy\n",
      "31                Hawkins\n",
      "32                  Honey\n",
      "33    Immigration Officer\n",
      "36                   Leon\n",
      "37                 Maggie\n",
      "38                    Max\n",
      "39                  Milos\n",
      "40                 Mugger\n",
      "43         Robert Hawkins\n",
      "44                   Rose\n",
      "45      Secondary Officer\n",
      "46         Stephen Geller\n",
      "47                  Tommy\n",
      "48                 Vendor\n",
      "49                    B20\n",
      "51                    C12\n",
      "52                  Child\n",
      "53               Co-Pilot\n",
      "54                  Elena\n",
      "55                  Floyd\n",
      "57               Michaels\n",
      "58                 Miller\n",
      "59                  Pilot\n",
      "61                Smyslov\n",
      "62              Attendant\n",
      "63              Bartender\n",
      "64                  Billy\n",
      "65                  Candy\n",
      "66                  Casey\n",
      "69                   Ganz\n",
      "70                  Haden\n",
      "72                  Henry\n",
      "73                  Kehoe\n",
      "Name: character_name, dtype: object\n"
     ]
    }
   ],
   "source": [
    "# Filter the DataFrame to get rows with missing gender\n",
    "missing_genderguesser_df = genderguesser_labels[genderguesser_labels['gender'] == '?']\n",
    "\n",
    "# Display the first 50 names with missing gender\n",
    "print(missing_genderguesser_df['character_name'].head(50))"
   ]
  },
  {
   "cell_type": "markdown",
   "metadata": {},
   "source": [
    "### **Assessing the predictions from Genderize and GenderGuesser**"
   ]
  },
  {
   "cell_type": "markdown",
   "metadata": {},
   "source": [
    "### Looking at the predictions for Genderize and Gender-Guesser"
   ]
  },
  {
   "cell_type": "code",
   "execution_count": 17,
   "metadata": {},
   "outputs": [
    {
     "name": "stdout",
     "output_type": "stream",
     "text": [
      "gender\n",
      "?    6020\n",
      "m    2049\n",
      "f     966\n",
      "Name: count, dtype: int64\n",
      "gender\n",
      "?    6020\n",
      "m    2049\n",
      "f     966\n",
      "Name: count, dtype: int64\n",
      "gender\n",
      "?    6020\n",
      "m    2049\n",
      "f     966\n",
      "Name: count, dtype: int64\n"
     ]
    }
   ],
   "source": [
    "# Count the number of instances of f, m and ? in the original dataset\n",
    "print(cornell_movie_meta_df['gender'].value_counts())\n",
    "\n",
    "# Count the number of instances of f, m and ? in the Genderize modified dataset\n",
    "print(genderize_labels['gender'].value_counts())\n",
    "\n",
    "# Count the number of instances of f, m and ? in the Gender-Guesser modified dataset\n",
    "print(genderguesser_labels['gender'].value_counts())"
   ]
  },
  {
   "cell_type": "markdown",
   "metadata": {},
   "source": [
    "So we see that Genderize predicted a gender for 1505 more characters than Gender-Guesser, of which 1266 were predicted to be male and 239 to be female"
   ]
  },
  {
   "cell_type": "markdown",
   "metadata": {},
   "source": [
    "### Making a dataframe ready to investigate how Genderize and Gender-Guesser predicts"
   ]
  },
  {
   "cell_type": "code",
   "execution_count": 18,
   "metadata": {},
   "outputs": [
    {
     "name": "stdout",
     "output_type": "stream",
     "text": [
      "Lenght of genderguesser_labels: 9035\n",
      "Lenght of genderize_labels: 9035\n",
      "  characterID character_name movieID                   movie_title gender  \\\n",
      "0         u0          Bianca     m0    10 things i hate about you       f   \n",
      "1         u1           Bruce     m0    10 things i hate about you       ?   \n",
      "2         u2         Cameron     m0    10 things i hate about you       m   \n",
      "3         u3        Chastity     m0    10 things i hate about you       ?   \n",
      "4         u4            Joey     m0    10 things i hate about you       m   \n",
      "\n",
      "  position_in_credits genderize_gender genderguesser_gender  \n",
      "0                   4                f                    f  \n",
      "1                   ?                m                    m  \n",
      "2                   3                m                    m  \n",
      "3                   ?                f                    f  \n",
      "4                   6                m                    m  \n",
      "Lenght of cornell_movie_meta_compare_df: 9035\n"
     ]
    }
   ],
   "source": [
    "# Rename gender variables in genderize_labels and genderguesser_labels to reflect which method was used to assess gender DO WE NEED?\n",
    "#genderguesser_labels = genderguesser_labels.rename(columns={'gender': 'genderguesser_gender'})\n",
    "#genderize_labels = genderize_labels.rename(columns={'gender': 'genderize_gender'})\n",
    "\n",
    "# Check that they are the same length (9035)\n",
    "print(f\"Lenght of genderguesser_labels: {len(genderguesser_labels)}\")\n",
    "print(f\"Lenght of genderize_labels: {len(genderize_labels)}\")\n",
    "\n",
    "# Concatenate the DataFrames along columns (axis=1) based on index\n",
    "cornell_movie_meta_compare_df = pd.concat(\n",
    "    [cornell_movie_meta_df,  # Keep all columns from the original DataFrame\n",
    "     genderize_labels[['genderize_gender']],  # Keep gender predictions from Genderize\n",
    "     genderguesser_labels[['genderguesser_gender']]],  # Keep gender predictions from Gender-Guesser\n",
    "    axis=1)\n",
    "\n",
    "# Check the result and see that it looks good and the len is correct (it should be 9035)\n",
    "print(cornell_movie_meta_compare_df.head())\n",
    "print(f\"Lenght of cornell_movie_meta_compare_df: {len(cornell_movie_meta_compare_df)}\")\n",
    "\n",
    "# Save the dataframe for later use\n",
    "cornell_movie_meta_compare_df.to_csv('/work/VNV/Module 1 - Data acqusition and preparation/output/cornell_all_three_gender_labels.csv', index=False)"
   ]
  },
  {
   "cell_type": "markdown",
   "metadata": {},
   "source": [
    "### Asessing the agreement between Genderize and Gender-Guesser"
   ]
  },
  {
   "cell_type": "code",
   "execution_count": 19,
   "metadata": {},
   "outputs": [
    {
     "name": "stdout",
     "output_type": "stream",
     "text": [
      "Lenght of genderize_vs_genderguesser after removing non-gender-annotated characters: 6020\n",
      "Agreement: 2163\n",
      "Disagreement: 196\n",
      "Agreement percentage: 91.69139465875371\n",
      "Disagreement percentage: 8.30860534124629\n",
      "    character_name genderize_gender genderguesser_gender\n",
      "0            Duffy              NaN                    m\n",
      "1            Casey              NaN                  NaN\n",
      "2            Carey              NaN                  NaN\n",
      "3               Ma                f                  NaN\n",
      "4              Len              NaN                    m\n",
      "5           Bailey              NaN                    f\n",
      "6              Doc                m                  NaN\n",
      "7              Man                m                  NaN\n",
      "8            Lenny              NaN                    m\n",
      "9         Gillette              NaN                    f\n",
      "10             Man                m                  NaN\n",
      "11          Kendal              NaN                    f\n",
      "12             Man                m                  NaN\n",
      "13              Da              NaN                  NaN\n",
      "14             Man                m                  NaN\n",
      "15         Tierney                f                    m\n",
      "16            Kyle                m                    f\n",
      "17             Man                m                  NaN\n",
      "18           Jamie              NaN                    f\n",
      "19             Man                m                  NaN\n",
      "20           Duffy              NaN                    m\n",
      "21             Lao                m                  NaN\n",
      "22             Man                m                  NaN\n",
      "23             Man                m                  NaN\n",
      "24            Numa                m                    f\n",
      "25             Eli              NaN                    f\n",
      "26           Stern              NaN                    m\n",
      "27           Rowan              NaN                    m\n",
      "28             Man                m                  NaN\n",
      "29            Kris              NaN                    m\n",
      "30            Yuri              NaN                    m\n",
      "31             Doc                m                  NaN\n",
      "32             Man                m                  NaN\n",
      "33          Marian                f                    m\n",
      "34             Dee              NaN                    f\n",
      "35           Sammy              NaN                    m\n",
      "36              Ma                f                  NaN\n",
      "37             Mao                m                  NaN\n",
      "38             Man                m                  NaN\n",
      "39             Man                m                  NaN\n",
      "40           Casey              NaN                  NaN\n",
      "41        Gillette              NaN                    f\n",
      "42             Sim                m                  NaN\n",
      "43         Cleante              NaN                    m\n",
      "44          Simone              NaN                    f\n",
      "45          Merlin              NaN                    f\n",
      "46             Man                m                  NaN\n",
      "47             Mal                m                  NaN\n",
      "48          Nicola                m                    f\n",
      "49          Simone              NaN                    f\n",
      "50            Kyle                m                    f\n",
      "51             Win                m                  NaN\n",
      "52             Man                m                  NaN\n",
      "53            Tran              NaN                  NaN\n",
      "54        Clemenza              NaN                    f\n",
      "55             Moe                m                    f\n",
      "56            Deke                m                    f\n",
      "57             Man                m                  NaN\n",
      "58          Laddie              NaN                    m\n",
      "59           Blair              NaN                  NaN\n",
      "60            Jean              NaN                    m\n",
      "61           Tully              NaN                  NaN\n",
      "62            Helm              NaN                    m\n",
      "63            Pace              NaN                  NaN\n",
      "64             Man                m                  NaN\n",
      "65            Roby              NaN                    m\n",
      "66            Minh                m                    f\n",
      "67          Jackie                f                  NaN\n",
      "68             Lou              NaN                    m\n",
      "69          Bernie              NaN                    f\n",
      "70            Juno              NaN                    f\n",
      "71           Maxie              NaN                    f\n",
      "72             Man                m                  NaN\n",
      "73             Woo                m                  NaN\n",
      "74             Kam              NaN                    m\n",
      "75            Kyle                m                    f\n",
      "76             Man                m                  NaN\n",
      "77           Kader                m                  NaN\n",
      "78           Reese              NaN                  NaN\n",
      "79           Blair              NaN                  NaN\n",
      "80             Man                m                  NaN\n",
      "81           Duffy              NaN                    m\n",
      "82          Reilly              NaN                  NaN\n",
      "83             Man                m                  NaN\n",
      "84         Georgie                f                  NaN\n",
      "85           Lenny              NaN                    m\n",
      "86             Man                m                  NaN\n",
      "87              Lo              NaN                  NaN\n",
      "88            Tsai                m                  NaN\n",
      "89             Lao                m                  NaN\n",
      "90             Man                m                  NaN\n",
      "91           Merle                f                    m\n",
      "92           Ellis              NaN                    m\n",
      "93          Jackie                f                  NaN\n",
      "94             Man                m                  NaN\n",
      "95           Bunny              NaN                  NaN\n",
      "96             Lou              NaN                    m\n",
      "97              Jo                f                  NaN\n",
      "98         Frankie                m                  NaN\n",
      "99             Man                m                  NaN\n",
      "100            Kay              NaN                    m\n",
      "101          Jamie              NaN                    f\n",
      "102          Sasha              NaN                    m\n",
      "103            Man                m                  NaN\n",
      "104            Man                m                  NaN\n",
      "105           Jean              NaN                    m\n",
      "106            Man                m                  NaN\n",
      "107            Lou              NaN                    m\n",
      "108        Frankie                m                  NaN\n",
      "109            Man                m                  NaN\n",
      "110             Ba              NaN                    m\n",
      "111          Lamar              NaN                    m\n",
      "112           Fran                m                    f\n",
      "113       Clemenza              NaN                    f\n",
      "114            Man                m                  NaN\n",
      "115           Neri              NaN                    m\n",
      "116            Ola                f                    m\n",
      "117          Marty              NaN                    m\n",
      "118            Man                m                  NaN\n",
      "119           Wynn              NaN                  NaN\n",
      "120           Sage              NaN                  NaN\n",
      "121           Shea              NaN                  NaN\n",
      "122            Doc                m                  NaN\n",
      "123        Addison              NaN                  NaN\n",
      "124            Lou              NaN                    m\n",
      "125         Bailey              NaN                    f\n",
      "126            Man                m                  NaN\n",
      "127          Marty              NaN                    m\n",
      "128         Jackie                f                  NaN\n",
      "129            Red                m                  NaN\n",
      "130            Ike                m                  NaN\n",
      "131            Man                m                  NaN\n",
      "132         Taylor              NaN                    m\n",
      "133           Kwan              NaN                  NaN\n",
      "134         Burgel              NaN                    f\n",
      "135            Man                m                  NaN\n",
      "136            Doc                m                  NaN\n",
      "137            Doc                m                  NaN\n",
      "138           Choi              NaN                  NaN\n",
      "139       Castillo              NaN                    f\n",
      "140           Bell              NaN                    f\n",
      "141          Manny                m                    f\n",
      "142         Wallis              NaN                    m\n",
      "143            Man                m                  NaN\n",
      "144         Bertie              NaN                    f\n",
      "145            Man                m                  NaN\n",
      "146          Sammy              NaN                    m\n",
      "147            Man                m                  NaN\n",
      "148        Frankie                m                  NaN\n",
      "149         Bernie              NaN                    f\n",
      "150         Jackie                f                  NaN\n",
      "151            Red                m                  NaN\n",
      "152          Paris              NaN                    m\n",
      "153          Bunny              NaN                  NaN\n",
      "154            Man                m                  NaN\n",
      "155            Man                m                  NaN\n",
      "156            Han              NaN                  NaN\n",
      "157     Soon Young              NaN                    f\n",
      "158        Whitney                f                    m\n",
      "159           Lulu                f                    m\n",
      "160         Taylor              NaN                    m\n",
      "161          Bunny              NaN                  NaN\n",
      "162            Ike                m                  NaN\n",
      "163            Ike                m                  NaN\n",
      "164            Man                m                  NaN\n",
      "165          Marty              NaN                    m\n",
      "166          Reese              NaN                  NaN\n",
      "167     Sutherland              NaN                    m\n",
      "168          Avery              NaN                  NaN\n",
      "169            Man                m                  NaN\n",
      "170         Bailey              NaN                    f\n",
      "171          Sammy              NaN                    m\n",
      "172        Whitney                f                    m\n",
      "173           Hira                f                    m\n",
      "174            Man                m                  NaN\n",
      "175          Riley              NaN                    m\n",
      "176         Reilly              NaN                  NaN\n",
      "177           Swan              NaN                    m\n",
      "178         Bailey              NaN                    f\n",
      "179      Dominique              NaN                  NaN\n",
      "180          Paris              NaN                    m\n",
      "181           Yung                m                  NaN\n",
      "182            Pat              NaN                  NaN\n",
      "183       Sheridan              NaN                    m\n",
      "184            Man                m                  NaN\n",
      "185           Juno              NaN                    f\n",
      "186          Lenny              NaN                    m\n",
      "187          Marty              NaN                    m\n",
      "188        Charley              NaN                    m\n",
      "189          Deane              NaN                  NaN\n",
      "190         Reilly              NaN                  NaN\n",
      "191          Ollie                m                  NaN\n",
      "192         Morgan              NaN                    m\n",
      "193         Taylor              NaN                    m\n",
      "194            Sky              NaN                    f\n",
      "195           Jean              NaN                    m\n"
     ]
    }
   ],
   "source": [
    "# Keep only the rows where there wasn't a gender label in the original dataframe\n",
    "genderize_vs_genderguesser = cornell_movie_meta_compare_df[cornell_movie_meta_compare_df['gender'] == '?']\n",
    "\n",
    "# Check result and see that the length is correct (6020 - since there were 3015 characters with gender and 9035 characters in total)\n",
    "print(f\"Lenght of genderize_vs_genderguesser after removing non-gender-annotated characters: {len(genderize_vs_genderguesser)}\")\n",
    "\n",
    "# Initialize lists to store agreement and disagreement\n",
    "Agreement = []\n",
    "Disagreement = []\n",
    "\n",
    "# Iterate through each row in the DataFrame\n",
    "for index, row in genderize_vs_genderguesser.iterrows():\n",
    "    # Check if both 'genderize_gender' and 'genderguesser_gender' are not '?'\n",
    "    if row['genderize_gender'] != '?' and row['genderguesser_gender'] != '?':\n",
    "        # If they agree, append to Agreement\n",
    "        if row['genderize_gender'] == row['genderguesser_gender']:\n",
    "            Agreement.append(row['character_name'])\n",
    "        # If they disagree, append to Disagreement with both predictions\n",
    "        else:\n",
    "            disagreement_details = {\n",
    "                'character_name': row['character_name'],\n",
    "                'genderize_gender': row['genderize_gender'],\n",
    "                'genderguesser_gender': row['genderguesser_gender']\n",
    "            }\n",
    "            Disagreement.append(disagreement_details)\n",
    "\n",
    "# Check the results\n",
    "print(f\"Agreement: {len(Agreement)}\")\n",
    "print(f\"Disagreement: {len(Disagreement)}\")\n",
    "\n",
    "# Calculate the percentage for Agreement and Disagreement\n",
    "Amount_of_guesses = len(Agreement)+len(Disagreement)\n",
    "Agreement_percentage = (len(Agreement)/Amount_of_guesses)*100\n",
    "disagreement_percentage = (len(Disagreement)/Amount_of_guesses)*100\n",
    "\n",
    "print(f\"Agreement percentage: {Agreement_percentage}\")\n",
    "print(f\"Disagreement percentage: {disagreement_percentage}\")\n",
    "\n",
    "# Convert the Disagreement list into a DataFrame\n",
    "disagreement_df = pd.DataFrame(Disagreement)\n",
    "\n",
    "# Set pandas to display all rows in the DataFrame\n",
    "pd.set_option('display.max_rows', None)\n",
    "\n",
    "# Print the names they disagreed on\n",
    "print(disagreement_df)"
   ]
  },
  {
   "cell_type": "markdown",
   "metadata": {},
   "source": [
    "Here it seems like Genderize is more correct in its predictions"
   ]
  },
  {
   "cell_type": "markdown",
   "metadata": {},
   "source": [
    "## Checking agreement between Genderize and Cornell"
   ]
  },
  {
   "cell_type": "code",
   "execution_count": 20,
   "metadata": {},
   "outputs": [],
   "source": [
    "# Save the dataframe for later use\n",
    "cornell_movie_meta_compare_df = pd.read_csv('/work/VNV/Module 1 - Data acqusition and preparation/output/cornell_all_three_gender_labels.csv')"
   ]
  },
  {
   "cell_type": "code",
   "execution_count": 21,
   "metadata": {},
   "outputs": [
    {
     "name": "stdout",
     "output_type": "stream",
     "text": [
      "Number of character names: 3015\n",
      "   characterID character_name movieID                   movie_title gender  \\\n",
      "0          u0          Bianca     m0    10 things i hate about you       f   \n",
      "2          u2         Cameron     m0    10 things i hate about you       m   \n",
      "4          u4            Joey     m0    10 things i hate about you       m   \n",
      "5          u5             Kat     m0    10 things i hate about you       f   \n",
      "6          u6        Mandella     m0    10 things i hate about you       f   \n",
      "7          u7         Michael     m0    10 things i hate about you       m   \n",
      "9          u9         Patrick     m0    10 things i hate about you       m   \n",
      "11        u11          Walter     m0    10 things i hate about you       m   \n",
      "16        u16        Columbus     m1    1492: conquest of paradise       m   \n",
      "19        u19        Marchena     m1    1492: conquest of paradise       m   \n",
      "26        u26          Cutler     m2                    15 minutes       m   \n",
      "27        u27          Daphne     m2                    15 minutes       f   \n",
      "29        u29           Eddie     m2                    15 minutes       m   \n",
      "30        u30            Emil     m2                    15 minutes       m   \n",
      "34        u34           Jordy     m2                    15 minutes       m   \n",
      "35        u35          Korfin     m2                    15 minutes       m   \n",
      "41        u41       Nicolette     m2                    15 minutes       f   \n",
      "42        u42            Oleg     m2                    15 minutes       m   \n",
      "50        u50          Bowman     m3         2001: a space odyssey       m   \n",
      "56        u56             Hal     m3         2001: a space odyssey       m   \n",
      "\n",
      "   position_in_credits genderize_gender genderguesser_gender  \n",
      "0                    4                f                    f  \n",
      "2                    3                m                    m  \n",
      "4                    6                m                    m  \n",
      "5                    2                f                    f  \n",
      "6                    7                m                    ?  \n",
      "7                    5                m                    m  \n",
      "9                    1                m                    m  \n",
      "11                   9                m                    m  \n",
      "16                   1                m                    m  \n",
      "19                   6                m                    ?  \n",
      "26                   ?                m                    ?  \n",
      "27                   8                f                    f  \n",
      "29                   1                m                    m  \n",
      "30                   6                m                    m  \n",
      "34                   2                m                    m  \n",
      "35                   9              NaN                    ?  \n",
      "41                   5                f                    f  \n",
      "42                   7                m                    m  \n",
      "50                   1                m                    ?  \n",
      "56                   7                m                    m  \n"
     ]
    }
   ],
   "source": [
    "# Make a copy of cornell_movie_meta_compare_df\n",
    "cornell_vs_genderize = cornell_movie_meta_compare_df.copy()\n",
    "\n",
    "# Keep only the rows where cornell already had gender labels\n",
    "cornell_vs_genderize = cornell_vs_genderize[cornell_vs_genderize['gender'] != '?']\n",
    "\n",
    "# Check the length of the df (should be 3015)\n",
    "print(f\"Number of character names: {len(cornell_vs_genderize)}\")\n",
    "\n",
    "# View the dataframe\n",
    "print(cornell_vs_genderize.head(20))"
   ]
  },
  {
   "cell_type": "code",
   "execution_count": 22,
   "metadata": {},
   "outputs": [
    {
     "name": "stdout",
     "output_type": "stream",
     "text": [
      "Agreement: 2536\n",
      "Disagreement: 479\n",
      "Agreement percentage: 84.11276948590381\n",
      "Disagreement percentage: 15.887230514096185\n",
      "     character_name genderize_gender cornell_gender\n",
      "0          Mandella                m              f\n",
      "1            Korfin              NaN              m\n",
      "2             Poole              NaN              m\n",
      "3             Cates                f              m\n",
      "4       Dino Velvet                f              m\n",
      "5          Longdale              NaN              m\n",
      "6              Reef              NaN              m\n",
      "7         Lariviere              NaN              m\n",
      "8          Twombley                f              m\n",
      "9              Newt                m              f\n",
      "10           Ripley              NaN              f\n",
      "11        Cavalieri                m              f\n",
      "12             Lorl              NaN              f\n",
      "13      Schikaneder              NaN              m\n",
      "14           Vogler              NaN              m\n",
      "15             Alex                m              f\n",
      "16     Mrs. Dickson                m              f\n",
      "17            Rains              NaN              m\n",
      "18              Zee              NaN              f\n",
      "19             Jean              NaN              f\n",
      "20           Alotta              NaN              f\n",
      "21  Invisible Jones              NaN              m\n",
      "22           Mother              NaN              m\n",
      "23        Valentine              NaN              f\n",
      "24        Delacroix              NaN              m\n",
      "25         Dunwitty              NaN              m\n",
      "26          Junebug              NaN              m\n",
      "27           Mantan              NaN              m\n",
      "28     Sleep 'N Eat              NaN              m\n",
      "29            Sloan              NaN              f\n",
      "30          Kendall              NaN              m\n",
      "31          Osborne                m              f\n",
      "32             Yuri              NaN              m\n",
      "33             Gill                f              m\n",
      "34         Tehronne              NaN              m\n",
      "35           Ohashi              NaN              m\n",
      "36            Batty              NaN              m\n",
      "37            Duffy              NaN              m\n",
      "38          Smecker              NaN              m\n",
      "39            Nicky              NaN              f\n",
      "40           Andrea              NaN              f\n",
      "41         Strasser              NaN              m\n",
      "42         Badchuck              NaN              m\n",
      "43        Goodchuck              NaN              m\n",
      "44            Larch              NaN              m\n",
      "45         Mr. Rose                f              m\n",
      "46            Ashby              NaN              m\n",
      "47             Jani                m              f\n",
      "48        Doolittle              NaN              m\n",
      "49      Mothershead              NaN              f\n"
     ]
    }
   ],
   "source": [
    "# Initialize lists to store agreement and disagreement\n",
    "Agreement = []\n",
    "Disagreement = []\n",
    "\n",
    "# Iterate through each row in the DataFrame\n",
    "for index, row in cornell_vs_genderize.iterrows():\n",
    "    # If they agree, append to Agreement\n",
    "    if row['genderize_gender'] == row['gender']:\n",
    "        Agreement.append(row['character_name'])\n",
    "    # If they disagree, append to Disagreement with both predictions\n",
    "    else:\n",
    "        disagreement_details = {\n",
    "            'character_name': row['character_name'],\n",
    "            'genderize_gender': row['genderize_gender'],\n",
    "            'cornell_gender': row['gender']\n",
    "        }\n",
    "        Disagreement.append(disagreement_details)\n",
    "\n",
    "# Check the results\n",
    "print(f\"Agreement: {len(Agreement)}\")\n",
    "print(f\"Disagreement: {len(Disagreement)}\")\n",
    "\n",
    "# Calculate the percentage for Agreement and Disagreement\n",
    "Amount_of_guesses = len(Agreement)+len(Disagreement)\n",
    "Agreement_percentage = (len(Agreement)/Amount_of_guesses)*100\n",
    "Disagreement_percentage = (len(Disagreement)/Amount_of_guesses)*100\n",
    "\n",
    "print(f\"Agreement percentage: {Agreement_percentage}\")\n",
    "print(f\"Disagreement percentage: {Disagreement_percentage}\")\n",
    "\n",
    "# Convert the Disagreement list into a DataFrame\n",
    "disagreement_df = pd.DataFrame(Disagreement)\n",
    "\n",
    "# Print the names they disagreed on\n",
    "print(disagreement_df.head(50))"
   ]
  },
  {
   "cell_type": "markdown",
   "metadata": {},
   "source": [
    "So, that seems like a large disagreement, let's look at how many genderize was not able to predict for and how many it predicted wrong for"
   ]
  },
  {
   "cell_type": "code",
   "execution_count": 23,
   "metadata": {},
   "outputs": [
    {
     "name": "stdout",
     "output_type": "stream",
     "text": [
      "Number of NaN Genderize predictions when Cornell says 'f': 81\n",
      "Number of NaN Genderize predictions when Cornell says 'm': 248\n",
      "Number of NaN Genderize predictions when Cornell says 'f' or 'm: 329\n"
     ]
    }
   ],
   "source": [
    "# Count occurrences of NaN in genderize_gender where cornell_gender is 'f'\n",
    "nan_f_count = ((disagreement_df['genderize_gender'].isna()) & (disagreement_df['cornell_gender'] == 'f')).sum()\n",
    "\n",
    "# Count occurrences of NaN in genderize_gender where cornell_gender is 'm'\n",
    "nan_m_count = ((disagreement_df['genderize_gender'].isna()) & (disagreement_df['cornell_gender'] == 'm')).sum()\n",
    "\n",
    "print(f\"Number of NaN Genderize predictions when Cornell says 'f': {nan_f_count}\")\n",
    "print(f\"Number of NaN Genderize predictions when Cornell says 'm': {nan_m_count}\")\n",
    "print(f\"Number of NaN Genderize predictions when Cornell says 'f' or 'm: {nan_m_count + nan_f_count}\")"
   ]
  },
  {
   "cell_type": "markdown",
   "metadata": {},
   "source": [
    "## Checking agreement between Gender-Guesser and Cornell"
   ]
  },
  {
   "cell_type": "code",
   "execution_count": 24,
   "metadata": {},
   "outputs": [
    {
     "name": "stdout",
     "output_type": "stream",
     "text": [
      "Number of character names: 3015\n",
      "   characterID character_name movieID                   movie_title gender  \\\n",
      "0          u0          Bianca     m0    10 things i hate about you       f   \n",
      "2          u2         Cameron     m0    10 things i hate about you       m   \n",
      "4          u4            Joey     m0    10 things i hate about you       m   \n",
      "5          u5             Kat     m0    10 things i hate about you       f   \n",
      "6          u6        Mandella     m0    10 things i hate about you       f   \n",
      "7          u7         Michael     m0    10 things i hate about you       m   \n",
      "9          u9         Patrick     m0    10 things i hate about you       m   \n",
      "11        u11          Walter     m0    10 things i hate about you       m   \n",
      "16        u16        Columbus     m1    1492: conquest of paradise       m   \n",
      "19        u19        Marchena     m1    1492: conquest of paradise       m   \n",
      "26        u26          Cutler     m2                    15 minutes       m   \n",
      "27        u27          Daphne     m2                    15 minutes       f   \n",
      "29        u29           Eddie     m2                    15 minutes       m   \n",
      "30        u30            Emil     m2                    15 minutes       m   \n",
      "34        u34           Jordy     m2                    15 minutes       m   \n",
      "35        u35          Korfin     m2                    15 minutes       m   \n",
      "41        u41       Nicolette     m2                    15 minutes       f   \n",
      "42        u42            Oleg     m2                    15 minutes       m   \n",
      "50        u50          Bowman     m3         2001: a space odyssey       m   \n",
      "56        u56             Hal     m3         2001: a space odyssey       m   \n",
      "\n",
      "   position_in_credits genderize_gender genderguesser_gender  \n",
      "0                    4                f                    f  \n",
      "2                    3                m                    m  \n",
      "4                    6                m                    m  \n",
      "5                    2                f                    f  \n",
      "6                    7                m                    ?  \n",
      "7                    5                m                    m  \n",
      "9                    1                m                    m  \n",
      "11                   9                m                    m  \n",
      "16                   1                m                    m  \n",
      "19                   6                m                    ?  \n",
      "26                   ?                m                    ?  \n",
      "27                   8                f                    f  \n",
      "29                   1                m                    m  \n",
      "30                   6                m                    m  \n",
      "34                   2                m                    m  \n",
      "35                   9              NaN                    ?  \n",
      "41                   5                f                    f  \n",
      "42                   7                m                    m  \n",
      "50                   1                m                    ?  \n",
      "56                   7                m                    m  \n"
     ]
    }
   ],
   "source": [
    "# Make a copy of cornell_movie_meta_compare_df\n",
    "cornell_vs_genderguesser = cornell_movie_meta_compare_df.copy()\n",
    "\n",
    "# Keep only the rows where cornell already had gender labels\n",
    "cornell_vs_genderguesser = cornell_vs_genderguesser[cornell_vs_genderguesser['gender'] != '?']\n",
    "\n",
    "# Check the length of the df (should be 3015)\n",
    "print(f\"Number of character names: {len(cornell_vs_genderguesser)}\")\n",
    "\n",
    "# View the dataframe\n",
    "print(cornell_vs_genderguesser.head(20))"
   ]
  },
  {
   "cell_type": "markdown",
   "metadata": {},
   "source": [
    "### Checking their agreement"
   ]
  },
  {
   "cell_type": "code",
   "execution_count": 25,
   "metadata": {},
   "outputs": [
    {
     "name": "stdout",
     "output_type": "stream",
     "text": [
      "Agreement: 1817\n",
      "Disagreement: 1198\n",
      "Agreement percentage: 60.26533996683251\n",
      "Disagreement percentage: 39.73466003316749\n",
      "   character_name genderguesser_gender cornell_gender\n",
      "0        Mandella                    ?              f\n",
      "1        Marchena                    ?              m\n",
      "2          Cutler                    ?              m\n",
      "3          Korfin                    ?              m\n",
      "4          Bowman                    ?              m\n",
      "5           Poole                    ?              m\n",
      "6           Cates                    ?              m\n",
      "7         Hammond                    ?              m\n",
      "8          Korben                    ?              m\n",
      "9          Leeloo                    ?              f\n",
      "10    Dino Velvet                    ?              m\n",
      "11       Longdale                    ?              m\n",
      "12  Mrs Christian                    ?              m\n",
      "13    Mrs Mathews                    ?              m\n",
      "14         Welles                    ?              m\n",
      "15           Reef                    ?              m\n",
      "16      Lariviere                    ?              m\n",
      "17          Rolfe                    ?              m\n",
      "18       Twombley                    ?              m\n",
      "19       Shepherd                    ?              m\n"
     ]
    }
   ],
   "source": [
    "# Initialize lists to store agreement and disagreement\n",
    "Agreement = []\n",
    "Disagreement = []\n",
    "\n",
    "# Iterate through each row in the DataFrame\n",
    "for index, row in cornell_vs_genderguesser.iterrows():\n",
    "    # If they agree, append to Agreement\n",
    "    if row['genderguesser_gender'] == row['gender']:\n",
    "        Agreement.append(row['character_name'])\n",
    "    # If they disagree, append to Disagreement with both predictions\n",
    "    else:\n",
    "        disagreement_details = {\n",
    "            'character_name': row['character_name'],\n",
    "            'genderguesser_gender': row['genderguesser_gender'],\n",
    "            'cornell_gender': row['gender']\n",
    "        }\n",
    "        Disagreement.append(disagreement_details)\n",
    "\n",
    "# Check the results\n",
    "print(f\"Agreement: {len(Agreement)}\")\n",
    "print(f\"Disagreement: {len(Disagreement)}\")\n",
    "\n",
    "# Calculate the percentage for Agreement and Disagreement\n",
    "Amount_of_guesses = len(Agreement)+len(Disagreement)\n",
    "Agreement_percentage = (len(Agreement)/Amount_of_guesses)*100\n",
    "Disagreement_percentage = (len(Disagreement)/Amount_of_guesses)*100\n",
    "\n",
    "print(f\"Agreement percentage: {Agreement_percentage}\")\n",
    "print(f\"Disagreement percentage: {Disagreement_percentage}\")\n",
    "\n",
    "# Convert the Disagreement list into a DataFrame\n",
    "disagreement_genderguesser_df = pd.DataFrame(Disagreement)\n",
    "\n",
    "# Print the names they disagreed on\n",
    "print(disagreement_genderguesser_df.head(20))"
   ]
  },
  {
   "cell_type": "markdown",
   "metadata": {},
   "source": [
    "So, that seems like a large disagreement, let's look at how many genderize was not able to predict for and how many it predicted wrong for"
   ]
  },
  {
   "cell_type": "code",
   "execution_count": 26,
   "metadata": {},
   "outputs": [
    {
     "name": "stdout",
     "output_type": "stream",
     "text": [
      "Number of NaN Genderize predictions when Cornell says 'f': 173\n",
      "Number of NaN Genderize predictions when Cornell says 'm': 904\n",
      "Number of NaN Genderize predictions when Cornell says 'f' or 'm: 1077\n"
     ]
    }
   ],
   "source": [
    "# Count occurrences of NaN in genderize_gender where cornell_gender is 'f'\n",
    "nan_f_count = ((disagreement_genderguesser_df['genderguesser_gender'] == '?') & (disagreement_genderguesser_df['cornell_gender'] == 'f')).sum()\n",
    "\n",
    "# Count occurrences of NaN in genderize_gender where cornell_gender is 'm'\n",
    "nan_m_count = ((disagreement_genderguesser_df['genderguesser_gender'] == '?') & (disagreement_genderguesser_df['cornell_gender'] == 'm')).sum()\n",
    "\n",
    "print(f\"Number of NaN Genderize predictions when Cornell says 'f': {nan_f_count}\")\n",
    "print(f\"Number of NaN Genderize predictions when Cornell says 'm': {nan_m_count}\")\n",
    "print(f\"Number of NaN Genderize predictions when Cornell says 'f' or 'm: {nan_m_count + nan_f_count}\")"
   ]
  },
  {
   "cell_type": "markdown",
   "metadata": {},
   "source": [
    "## Movie_lines"
   ]
  },
  {
   "cell_type": "markdown",
   "metadata": {},
   "source": [
    "### Clean the data"
   ]
  },
  {
   "cell_type": "code",
   "execution_count": 27,
   "metadata": {},
   "outputs": [
    {
     "name": "stdout",
     "output_type": "stream",
     "text": [
      "   lineID characterID movieID character_name text_of_the_utterance\n",
      "0  L1045          u0      m0         BIANCA           They do not!\n",
      "1  L1044          u2      m0        CAMERON            They do to!\n",
      "2   L985          u0      m0         BIANCA             I hope so.\n",
      "3   L984          u2      m0        CAMERON              She okay?\n",
      "4   L925          u0      m0         BIANCA              Let's go.\n"
     ]
    }
   ],
   "source": [
    "# Read the file lines\n",
    "with open('/work/VNV/Module 1 - Data acqusition and preparation/data/movie_lines.txt', 'r', encoding='latin1') as file:\n",
    "    lines = file.readlines()\n",
    "\n",
    "# Split each line into columns based on the '+++$+++' delimiter\n",
    "split_lines = [line.strip().split(r'+++$+++') for line in lines]\n",
    "\n",
    "# Convert the list of split lines into a DataFrame\n",
    "cornell_lines_df = pd.DataFrame(split_lines, columns=['lineID', 'characterID', 'movieID', 'character_name', 'text_of_the_utterance'])\n",
    "\n",
    "# Save the DataFrame to a CSV file\n",
    "cornell_lines_df.to_csv('/work/VNV/Module 1 - Data acqusition and preparation/data/movie_lines_cleaned.csv', index=False)\n",
    "\n",
    "# Display the first few rows of the DataFrame\n",
    "print(cornell_lines_df.head())"
   ]
  },
  {
   "cell_type": "markdown",
   "metadata": {},
   "source": [
    "## Movie titles metadata"
   ]
  },
  {
   "cell_type": "markdown",
   "metadata": {},
   "source": [
    "### Clean the data"
   ]
  },
  {
   "cell_type": "code",
   "execution_count": 28,
   "metadata": {},
   "outputs": [
    {
     "name": "stdout",
     "output_type": "stream",
     "text": [
      "  movieID                   movie_title movie_year IMDB_rating no_IMDB_votes  \\\n",
      "0     m0    10 things i hate about you       1999        6.90         62847    \n",
      "1     m1    1492: conquest of paradise       1992        6.20         10421    \n",
      "2     m2                    15 minutes       2001        6.10         25854    \n",
      "3     m3         2001: a space odyssey       1968        8.40        163227    \n",
      "4     m4                       48 hrs.       1982        6.90         22289    \n",
      "\n",
      "                                              genres  \n",
      "0                              ['comedy', 'romance']  \n",
      "1     ['adventure', 'biography', 'drama', 'history']  \n",
      "2           ['action', 'crime', 'drama', 'thriller']  \n",
      "3                 ['adventure', 'mystery', 'sci-fi']  \n",
      "4   ['action', 'comedy', 'crime', 'drama', 'thril...  \n"
     ]
    }
   ],
   "source": [
    "# Read the file lines\n",
    "with open('/work/VNV/Module 1 - Data acqusition and preparation/data/movie_titles_metadata.txt', 'r', encoding='latin1') as file:\n",
    "    lines = file.readlines()\n",
    "\n",
    "# Split each line into columns based on the '+++$+++' delimiter\n",
    "split_lines = [line.strip().split(r'+++$+++') for line in lines]\n",
    "\n",
    "# Remove '/I' from the 'movie_year' column\n",
    "for line in split_lines:\n",
    "    line[2] = line[2].replace(\"/I\", \"\")  # Remove '/I' from the 'movie_year' column (3rd element)\n",
    "\n",
    "# Convert the list of split lines into a DataFrame\n",
    "cornell_movie_title_meta_df = pd.DataFrame(split_lines, columns=['movieID', 'movie_title', 'movie_year', 'IMDB_rating', 'no_IMDB_votes', 'genres'])\n",
    "\n",
    "# Save the DataFrame to a CSV file\n",
    "cornell_movie_title_meta_df.to_csv('/work/VNV/Module 1 - Data acqusition and preparation/data/movie_title_meta_cleaned.csv', index=False)\n",
    "\n",
    "# Display the first few rows of the DataFrame\n",
    "print(cornell_movie_title_meta_df.head())"
   ]
  },
  {
   "cell_type": "markdown",
   "metadata": {},
   "source": [
    "### Checking how many movies are from each year + the year range"
   ]
  },
  {
   "cell_type": "code",
   "execution_count": 29,
   "metadata": {},
   "outputs": [
    {
     "name": "stdout",
     "output_type": "stream",
     "text": [
      "   Decade  Movie Count\n",
      "0    1920            2\n",
      "1    1930           16\n",
      "2    1940           15\n",
      "3    1950           17\n",
      "4    1960           19\n",
      "5    1970           51\n",
      "6    1980          108\n",
      "7    1990          244\n",
      "8    2000          144\n",
      "9    2010            1\n"
     ]
    }
   ],
   "source": [
    "# Convert the 'movie_year' column to numeric values (integers)\n",
    "cornell_movie_title_meta_df['movie_year'] = pd.to_numeric(cornell_movie_title_meta_df['movie_year'], errors='coerce')\n",
    "\n",
    "# Create a new column for the decade (round down to nearest 10)\n",
    "cornell_movie_title_meta_df['decade'] = (cornell_movie_title_meta_df['movie_year'] // 10) * 10\n",
    "\n",
    "# Group by decade and count the number of movies\n",
    "decade_counts = cornell_movie_title_meta_df.groupby('decade')['movie_year'].count()\n",
    "\n",
    "# Convert the result into a DataFrame for better display\n",
    "decade_counts_df = pd.DataFrame(decade_counts).reset_index()\n",
    "decade_counts_df.columns = ['Decade', 'Movie Count']\n",
    "\n",
    "# Display the table\n",
    "print(decade_counts_df)"
   ]
  },
  {
   "cell_type": "markdown",
   "metadata": {},
   "source": [
    "# Combining columns from the different dataframes to make the final ones\n",
    "movie_characters_metadata.txt contains:\\\n",
    "    - **characterID**\\\n",
    "    - **character name**\\\n",
    "    - movieID\\\n",
    "    - movie title\\\n",
    "    - **gender** (\"?\" for unlabeled cases)\\\n",
    "    - position in credits (\"?\" for unlabeled cases)\n",
    "\n",
    "movie_lines.txt contains:\\\n",
    "    - lineID\\\n",
    "    - **characterID** (who uttered this phrase)\\\n",
    "    - movieID\\\n",
    "    - **character name**\\\n",
    "    - **text of the utterance**\n",
    "\n",
    "movie_titles_metadata.txt contains:\\\n",
    "    - movieID\\\n",
    "    - movie title\\\n",
    "    - **movie year**\\\n",
    "    - IMDB rating\\\n",
    "    - no. IMDB votes\\\n",
    "    - genres in the format ['genre1','genre2','genreN']"
   ]
  },
  {
   "cell_type": "markdown",
   "metadata": {},
   "source": [
    "## Loading in data frames"
   ]
  },
  {
   "cell_type": "code",
   "execution_count": 30,
   "metadata": {},
   "outputs": [],
   "source": [
    "# Load in the cleaned datasets\n",
    "movie_characters_original = pd.read_csv(\"/work/VNV/Module 1 - Data acqusition and preparation/data/clean_cornell.csv\")\n",
    "movie_lines = pd.read_csv(\"/work/VNV/Module 1 - Data acqusition and preparation/data/movie_lines_cleaned.csv\")\n",
    "movie_titles = pd.read_csv(\"/work/VNV/Module 1 - Data acqusition and preparation/data/movie_title_meta_cleaned.csv\")"
   ]
  },
  {
   "cell_type": "markdown",
   "metadata": {},
   "source": [
    "## Cleaning the dataframes"
   ]
  },
  {
   "cell_type": "code",
   "execution_count": 31,
   "metadata": {},
   "outputs": [
    {
     "name": "stdout",
     "output_type": "stream",
     "text": [
      "number of characters before cutting: 9035\n",
      "number of characters after cutting: 3015\n"
     ]
    }
   ],
   "source": [
    "# Strip leading and trailing spaces from the 'gender' column\n",
    "movie_characters_original['characterID'] = movie_characters_original['characterID'].str.strip()\n",
    "movie_characters_original['character_name'] = movie_characters_original['character_name'].str.strip()\n",
    "movie_characters_original['movieID'] = movie_characters_original['movieID'].str.strip()\n",
    "movie_characters_original['gender'] = movie_characters_original['gender'].str.strip()\n",
    "\n",
    "# Normalize the character names by capitalizing the first letter of each word - VERY IMPORTANT FOR GENDERIZE AND GENDER-GUESSER TO WORK -\n",
    "movie_characters_original['character_name'] = movie_characters_original['character_name'].str.title()\n",
    "\n",
    "movie_lines['characterID'] = movie_lines['characterID'].str.strip()\n",
    "movie_lines['movieID'] = movie_lines['movieID'].str.strip()\n",
    "movie_lines['character_name'] = movie_lines['character_name'].str.strip()\n",
    "movie_lines['text_of_the_utterance'] = movie_lines['text_of_the_utterance'].str.strip()\n",
    "\n",
    "movie_titles['movie_year'] = movie_titles['movie_year'].astype(str).str.strip()\n",
    "movie_titles['movieID'] = movie_titles['movieID'].str.strip()\n",
    "\n",
    "# Remove characters where a gender is not assigned\n",
    "print(f\"number of characters before cutting: {len(movie_characters_original)}\")\n",
    "movie_characters_original = movie_characters_original[movie_characters_original['gender'] != '?']\n",
    "print(f\"number of characters after cutting: {len(movie_characters_original)}\")"
   ]
  },
  {
   "cell_type": "markdown",
   "metadata": {},
   "source": [
    "### Add gender"
   ]
  },
  {
   "cell_type": "code",
   "execution_count": 32,
   "metadata": {},
   "outputs": [
    {
     "name": "stdout",
     "output_type": "stream",
     "text": [
      "   lineID characterID movieID character_name text_of_the_utterance gender\n",
      "0  L1045           u0      m0         BIANCA          They do not!      f\n",
      "1  L1044           u2      m0        CAMERON           They do to!      m\n",
      "2   L985           u0      m0         BIANCA            I hope so.      f\n",
      "3   L984           u2      m0        CAMERON             She okay?      m\n",
      "4   L925           u0      m0         BIANCA             Let's go.      f\n",
      "Length of movie_lines: 304713\n",
      "Length of movie_script_original_df: 304713\n"
     ]
    }
   ],
   "source": [
    "movie_script_original_df = pd.merge(\n",
    "    movie_lines,  # keep all the columns from movie_lines \n",
    "    movie_characters_original[['characterID', 'gender']],  # Select 'characterID' and 'gender' from movie_characters_original\n",
    "    on='characterID',  # Merge on 'characterID'\n",
    "    how='left'  # Use left join to keep all rows from movie_lines\n",
    ")\n",
    "\n",
    "print(movie_script_original_df.head())\n",
    "\n",
    "# Checking to see if the length is still correct\n",
    "print(f\"Length of movie_lines: {len(movie_lines)}\")\n",
    "print(f\"Length of movie_script_original_df: {len(movie_script_original_df)}\")"
   ]
  },
  {
   "cell_type": "markdown",
   "metadata": {},
   "source": [
    "### Add movie year"
   ]
  },
  {
   "cell_type": "code",
   "execution_count": 33,
   "metadata": {},
   "outputs": [
    {
     "name": "stdout",
     "output_type": "stream",
     "text": [
      "   lineID characterID movieID character_name text_of_the_utterance gender  \\\n",
      "0  L1045           u0      m0         BIANCA          They do not!      f   \n",
      "1  L1044           u2      m0        CAMERON           They do to!      m   \n",
      "2   L985           u0      m0         BIANCA            I hope so.      f   \n",
      "3   L984           u2      m0        CAMERON             She okay?      m   \n",
      "4   L925           u0      m0         BIANCA             Let's go.      f   \n",
      "\n",
      "  movie_year  \n",
      "0       1999  \n",
      "1       1999  \n",
      "2       1999  \n",
      "3       1999  \n",
      "4       1999  \n",
      "Length of movie_lines: 304713\n",
      "Length of movie_script_original_df: 304713\n"
     ]
    }
   ],
   "source": [
    "movie_script_original_df = pd.merge(\n",
    "    movie_script_original_df,  # keep all the columns from movie_lines \n",
    "    movie_titles[['movieID', 'movie_year']],  # Select 'movieID' and 'movie_year' from movie_titles\n",
    "    on='movieID',  # Merge on 'movieID'\n",
    "    how='left'  # Use left join to keep all rows from movie_script_original_df\n",
    ")\n",
    "\n",
    "print(movie_script_original_df.head())\n",
    "\n",
    "# Checking to see if the length is still correct\n",
    "print(f\"Length of movie_lines: {len(movie_lines)}\")\n",
    "print(f\"Length of movie_script_original_df: {len(movie_script_original_df)}\")"
   ]
  },
  {
   "cell_type": "markdown",
   "metadata": {},
   "source": [
    "### Remove the lines from characters that do not have a gender assigned (as they are irrelevant)"
   ]
  },
  {
   "cell_type": "code",
   "execution_count": 34,
   "metadata": {},
   "outputs": [
    {
     "name": "stdout",
     "output_type": "stream",
     "text": [
      "['f' 'm' nan]\n",
      "number of lines before cutting characters with no gender label: 304713\n",
      "number of lines after cutting characters with no gender label: 242023\n",
      "['f' 'm']\n",
      "number of lines before cutting <5: 242023\n",
      "number of lines after cutting <5: 242023\n",
      "   lineID characterID movieID character_name text_of_the_utterance gender  \\\n",
      "0  L1045           u0      m0         BIANCA          They do not!      f   \n",
      "1  L1044           u2      m0        CAMERON           They do to!      m   \n",
      "2   L985           u0      m0         BIANCA            I hope so.      f   \n",
      "3   L984           u2      m0        CAMERON             She okay?      m   \n",
      "4   L925           u0      m0         BIANCA             Let's go.      f   \n",
      "\n",
      "  movie_year  \n",
      "0       1999  \n",
      "1       1999  \n",
      "2       1999  \n",
      "3       1999  \n",
      "4       1999  \n"
     ]
    }
   ],
   "source": [
    "# Check the unique values in gender\n",
    "print(movie_script_original_df['gender'].unique())\n",
    "\n",
    "# Remove dialogue lines from characters where a gender is not assigned\n",
    "print(f\"number of lines before cutting characters with no gender label: {len(movie_script_original_df)}\")\n",
    "movie_script_original_df = movie_script_original_df[movie_script_original_df['gender'].notna()]\n",
    "print(f\"number of lines after cutting characters with no gender label: {len(movie_script_original_df)}\")\n",
    "\n",
    "# Check the unique values in gender to check that only f and m are there\n",
    "print(movie_script_original_df['gender'].unique())\n",
    "\n",
    "# Remove any characters that have less than 5 lines of dialogue\n",
    "print(f\"number of lines before cutting <5: {len(movie_script_original_df)}\")\n",
    "\n",
    "line_counts = movie_script_original_df['characterID'].value_counts() # Count the number of lines for each character\n",
    "characters_with_5_or_more_lines = line_counts[line_counts >= 5].index # Keep only characters with 5 or more lines\n",
    "movie_script_original_df = movie_script_original_df[movie_script_original_df['characterID'].isin(characters_with_5_or_more_lines)] # Filter the movie_script_original_df to keep only rows where characterID is in the list of characters with 5+ lines\n",
    "\n",
    "print(f\"number of lines after cutting <5: {len(movie_script_original_df)}\")\n",
    "\n",
    "# Check the heading\n",
    "print(movie_script_original_df.head())"
   ]
  },
  {
   "cell_type": "markdown",
   "metadata": {},
   "source": [
    "### Check how many movies, characters, and dialogue lines are left + when the movies are from"
   ]
  },
  {
   "cell_type": "code",
   "execution_count": 35,
   "metadata": {},
   "outputs": [
    {
     "name": "stdout",
     "output_type": "stream",
     "text": [
      "Number of movies: 600\n",
      "Number of characters: 3015\n",
      "Total number of dialog lines: 242023\n"
     ]
    }
   ],
   "source": [
    "print(f\"Number of movies: {movie_script_original_df['movieID'].nunique()}\")\n",
    "\n",
    "print(f\"Number of characters: {movie_script_original_df['characterID'].nunique()}\")\n",
    "\n",
    "print(f\"Total number of dialog lines: {len(movie_script_original_df)}\")"
   ]
  },
  {
   "cell_type": "code",
   "execution_count": 36,
   "metadata": {},
   "outputs": [
    {
     "name": "stdout",
     "output_type": "stream",
     "text": [
      "   Decade  Movie Count\n",
      "0    1920            1\n",
      "1    1930           15\n",
      "2    1940           15\n",
      "3    1950           17\n",
      "4    1960           19\n",
      "5    1970           49\n",
      "6    1980          105\n",
      "7    1990          239\n",
      "8    2000          139\n",
      "9    2010            1\n"
     ]
    },
    {
     "name": "stderr",
     "output_type": "stream",
     "text": [
      "/tmp/ipykernel_34190/3605397060.py:8: SettingWithCopyWarning: \n",
      "A value is trying to be set on a copy of a slice from a DataFrame.\n",
      "Try using .loc[row_indexer,col_indexer] = value instead\n",
      "\n",
      "See the caveats in the documentation: https://pandas.pydata.org/pandas-docs/stable/user_guide/indexing.html#returning-a-view-versus-a-copy\n",
      "  unique_movies_df['decade'] = (unique_movies_df['movie_year'] // 10) * 10\n"
     ]
    }
   ],
   "source": [
    "# Convert the 'movie_year' column to numeric values (integers)\n",
    "movie_script_original_df['movie_year'] = pd.to_numeric(movie_script_original_df['movie_year'], errors='coerce')\n",
    "\n",
    "# Drop duplicate movies based on 'movieID'\n",
    "unique_movies_df = movie_script_original_df.drop_duplicates(subset=['movieID'])\n",
    "\n",
    "# Create a new column for the decade (round down to nearest 10)\n",
    "unique_movies_df['decade'] = (unique_movies_df['movie_year'] // 10) * 10\n",
    "\n",
    "# Group by decade and count the number of unique movies\n",
    "decade_counts = unique_movies_df.groupby('decade')['movie_year'].count()\n",
    "\n",
    "# Convert the result into a DataFrame for better display\n",
    "decade_counts_df = pd.DataFrame(decade_counts).reset_index()\n",
    "decade_counts_df.columns = ['Decade', 'Movie Count']\n",
    "\n",
    "# Display the table\n",
    "print(decade_counts_df)"
   ]
  },
  {
   "cell_type": "markdown",
   "metadata": {},
   "source": [
    "### Save the dataframe for future use"
   ]
  },
  {
   "cell_type": "code",
   "execution_count": 37,
   "metadata": {},
   "outputs": [],
   "source": [
    "# Save the DataFrame to a CSV file\n",
    "movie_script_original_df.to_csv('/work/VNV/Module 1 - Data acqusition and preparation/output/movie_script_original_df', index=False)"
   ]
  },
  {
   "cell_type": "markdown",
   "metadata": {},
   "source": [
    "## Dataframe with genders from the original + genderize"
   ]
  },
  {
   "cell_type": "code",
   "execution_count": 38,
   "metadata": {},
   "outputs": [
    {
     "name": "stdout",
     "output_type": "stream",
     "text": [
      "Error for ManS Voice: (\"Invalid UTF8 in 'name' parameter\", 422, {'Server': 'nginx/1.16.1', 'Date': 'Thu, 02 Jan 2025 16:06:42 GMT', 'Content-Type': 'application/json', 'Content-Length': '44', 'Connection': 'keep-alive', 'vary': 'accept-encoding', 'cache-control': 'max-age=0, private, must-revalidate', 'x-request-id': 'GBbr0_eHxGIOMZEWHcHD', 'access-control-allow-credentials': 'true', 'access-control-allow-origin': '*', 'access-control-expose-headers': 'x-rate-limit-limit,x-rate-limit-remaining,x-rate-limit-reset'})\n",
      "  characterID character_name movieID                   movie_title gender  \\\n",
      "0         u0          Bianca     m0    10 things i hate about you       f   \n",
      "1         u1           Bruce     m0    10 things i hate about you       m   \n",
      "2         u2         Cameron     m0    10 things i hate about you       m   \n",
      "3         u3        Chastity     m0    10 things i hate about you       f   \n",
      "4         u4            Joey     m0    10 things i hate about you       m   \n",
      "\n",
      "  position_in_credits  \n",
      "0                   4  \n",
      "1                   ?  \n",
      "2                   3  \n",
      "3                   ?  \n",
      "4                   6  \n",
      "3761\n"
     ]
    }
   ],
   "source": [
    "# Create a copy of the original DataFrame to keep it intact\n",
    "cornell_movie_meta_genderize_df = cornell_movie_meta_df.copy()\n",
    "\n",
    "# Defining our API key\n",
    "API_key = \"freebie-17c383ac-f296-4448-bb9f-2758878e0b2e\"\n",
    "\n",
    "# Initialize Genderize\n",
    "genderize = Genderize(api_key=API_key)\n",
    "\n",
    "# Initialize a counter to keep track of how many predictions are made\n",
    "genderize_prediction_counter = 0\n",
    "\n",
    "# Loop through each row and apply the logic\n",
    "for index, row in cornell_movie_meta_genderize_df.iterrows():\n",
    "    if row['gender'] == '?':  # Check if gender is missing\n",
    "        try:\n",
    "            # Get a prediction of gender from the Genderize API based on the character's name\n",
    "            result = genderize.get([row['character_name']])\n",
    "            \n",
    "            # Only update gender if the probability of the prediction by Genderize is above 0.9\n",
    "            if result and result[0].get('probability') > 0.9:\n",
    "                \n",
    "                # Map the gender to \"m\" for male and \"f\" for female\n",
    "                predicted_gender = result[0]['gender']\n",
    "                if predicted_gender == 'male':\n",
    "                    cornell_movie_meta_genderize_df.at[index, 'gender'] = 'm'\n",
    "                    genderize_prediction_counter += 1  # Increment the counter\n",
    "                elif predicted_gender == 'female':\n",
    "                    cornell_movie_meta_genderize_df.at[index, 'gender'] = 'f'\n",
    "                    genderize_prediction_counter += 1  # Increment the counter\n",
    "\n",
    "        # If an error occurs, print the character name that caused it\n",
    "        except GenderizeException as e:\n",
    "            print(f\"Error for {row['character_name']}: {e}\")\n",
    "            # Continue with the next row even if an error occurs\n",
    "            continue\n",
    "\n",
    "# Save the DataFrame to a CSV file\n",
    "cornell_movie_meta_genderize_df.to_csv('/work/VNV/Module 1 - Data acqusition and preparation/output/updated_cornell_movie_meta_genderize.csv', index=False)\n",
    "\n",
    "# Check the result\n",
    "print(cornell_movie_meta_genderize_df.head())\n",
    "print(genderize_prediction_counter)"
   ]
  },
  {
   "cell_type": "markdown",
   "metadata": {},
   "source": [
    "## Load in the data"
   ]
  },
  {
   "cell_type": "code",
   "execution_count": 39,
   "metadata": {},
   "outputs": [],
   "source": [
    "movie_characters_genderize = pd.read_csv(\"/work/VNV/Module 1 - Data acqusition and preparation/output/updated_cornell_movie_meta_genderize.csv\")\n",
    "movie_lines = pd.read_csv(\"/work/VNV/Module 1 - Data acqusition and preparation/data/movie_lines_cleaned.csv\")\n",
    "movie_titles = pd.read_csv(\"/work/VNV/Module 1 - Data acqusition and preparation/data/movie_title_meta_cleaned.csv\")"
   ]
  },
  {
   "cell_type": "markdown",
   "metadata": {},
   "source": [
    "## Clean the dataframes"
   ]
  },
  {
   "cell_type": "code",
   "execution_count": 40,
   "metadata": {},
   "outputs": [
    {
     "name": "stdout",
     "output_type": "stream",
     "text": [
      "number of characters before cutting: 9035\n",
      "number of characters after cutting: 6776\n"
     ]
    }
   ],
   "source": [
    "# Strip leading and trailing spaces from the 'gender' column\n",
    "movie_characters_genderize['characterID'] = movie_characters_genderize['characterID'].str.strip()\n",
    "movie_characters_genderize['character_name'] = movie_characters_genderize['character_name'].str.strip()\n",
    "movie_characters_genderize['movieID'] = movie_characters_genderize['movieID'].str.strip()\n",
    "\n",
    "movie_lines['characterID'] = movie_lines['characterID'].str.strip()\n",
    "movie_lines['movieID'] = movie_lines['movieID'].str.strip()\n",
    "movie_lines['character_name'] = movie_lines['character_name'].str.strip()\n",
    "movie_lines['text_of_the_utterance'] = movie_lines['text_of_the_utterance'].str.strip()\n",
    "\n",
    "movie_titles['movie_year'] = movie_titles['movie_year'].astype(str).str.strip()\n",
    "movie_titles['movieID'] = movie_titles['movieID'].str.strip()\n",
    "\n",
    "# Remove characters where a gender is not assigned\n",
    "print(f\"number of characters before cutting: {len(movie_characters_genderize)}\")\n",
    "movie_characters_genderize = movie_characters_genderize[movie_characters_genderize['gender'] != '?']\n",
    "print(f\"number of characters after cutting: {len(movie_characters_genderize)}\")"
   ]
  },
  {
   "cell_type": "markdown",
   "metadata": {},
   "source": [
    "### Add gender"
   ]
  },
  {
   "cell_type": "code",
   "execution_count": 41,
   "metadata": {},
   "outputs": [
    {
     "name": "stdout",
     "output_type": "stream",
     "text": [
      "   lineID characterID movieID character_name text_of_the_utterance gender\n",
      "0  L1045           u0      m0         BIANCA          They do not!      f\n",
      "1  L1044           u2      m0        CAMERON           They do to!      m\n",
      "2   L985           u0      m0         BIANCA            I hope so.      f\n",
      "3   L984           u2      m0        CAMERON             She okay?      m\n",
      "4   L925           u0      m0         BIANCA             Let's go.      f\n",
      "Length of movie_lines: 304713\n",
      "Length of movie_script_genderize_df: 304713\n"
     ]
    }
   ],
   "source": [
    "movie_script_genderize_df = pd.merge(\n",
    "    movie_lines,  # keep all the columns from movie_lines \n",
    "    movie_characters_genderize[['characterID', 'gender']],  # Select 'characterID' and 'gender' from movie_characters_genderize\n",
    "    on='characterID',  # Merge on 'characterID'\n",
    "    how='left'  # Use left join to keep all rows from movie_lines\n",
    ")\n",
    "\n",
    "print(movie_script_genderize_df.head())\n",
    "\n",
    "# Checking to see if the length is still correct\n",
    "print(f\"Length of movie_lines: {len(movie_lines)}\")\n",
    "print(f\"Length of movie_script_genderize_df: {len(movie_script_genderize_df)}\")"
   ]
  },
  {
   "cell_type": "markdown",
   "metadata": {},
   "source": [
    "### Add movie year"
   ]
  },
  {
   "cell_type": "code",
   "execution_count": 42,
   "metadata": {},
   "outputs": [
    {
     "name": "stdout",
     "output_type": "stream",
     "text": [
      "   lineID characterID movieID character_name text_of_the_utterance gender  \\\n",
      "0  L1045           u0      m0         BIANCA          They do not!      f   \n",
      "1  L1044           u2      m0        CAMERON           They do to!      m   \n",
      "2   L985           u0      m0         BIANCA            I hope so.      f   \n",
      "3   L984           u2      m0        CAMERON             She okay?      m   \n",
      "4   L925           u0      m0         BIANCA             Let's go.      f   \n",
      "\n",
      "  movie_year  \n",
      "0       1999  \n",
      "1       1999  \n",
      "2       1999  \n",
      "3       1999  \n",
      "4       1999  \n",
      "Length of movie_lines: 304713\n",
      "Length of movie_script_genderize_df: 304713\n"
     ]
    }
   ],
   "source": [
    "movie_script_genderize_df = pd.merge(\n",
    "    movie_script_genderize_df,  # keep all the columns from movie_lines \n",
    "    movie_titles[['movieID', 'movie_year']],  # Select 'movieID' and 'movie_year' from movie_titles\n",
    "    on='movieID',  # Merge on 'movieID'\n",
    "    how='left'  # Use left join to keep all rows from movie_script_genderize_df\n",
    ")\n",
    "\n",
    "print(movie_script_genderize_df.head())\n",
    "\n",
    "# Checking to see if the length is still correct\n",
    "print(f\"Length of movie_lines: {len(movie_lines)}\")\n",
    "print(f\"Length of movie_script_genderize_df: {len(movie_script_genderize_df)}\")"
   ]
  },
  {
   "cell_type": "markdown",
   "metadata": {},
   "source": [
    "### Remove the lines from characters that do not have a gender assigned (as they are irrelevant)"
   ]
  },
  {
   "cell_type": "code",
   "execution_count": 43,
   "metadata": {},
   "outputs": [
    {
     "name": "stdout",
     "output_type": "stream",
     "text": [
      "['f' 'm' nan]\n",
      "number of lines before cutting characters with no gender label: 304713\n",
      "number of lines after cutting characters with no gender label: 281275\n",
      "['f' 'm']\n",
      "number of lines before cutting <5: 281275\n",
      "number of lines after cutting <5: 278176\n",
      "   lineID characterID movieID character_name text_of_the_utterance gender  \\\n",
      "0  L1045           u0      m0         BIANCA          They do not!      f   \n",
      "1  L1044           u2      m0        CAMERON           They do to!      m   \n",
      "2   L985           u0      m0         BIANCA            I hope so.      f   \n",
      "3   L984           u2      m0        CAMERON             She okay?      m   \n",
      "4   L925           u0      m0         BIANCA             Let's go.      f   \n",
      "\n",
      "  movie_year  \n",
      "0       1999  \n",
      "1       1999  \n",
      "2       1999  \n",
      "3       1999  \n",
      "4       1999  \n"
     ]
    }
   ],
   "source": [
    "# Check the unique values in gender\n",
    "print(movie_script_genderize_df['gender'].unique())\n",
    "\n",
    "# Remove dialogue lines from characters where a gender is not assigned\n",
    "print(f\"number of lines before cutting characters with no gender label: {len(movie_script_genderize_df)}\")\n",
    "movie_script_genderize_df = movie_script_genderize_df[movie_script_genderize_df['gender'].notna()]\n",
    "print(f\"number of lines after cutting characters with no gender label: {len(movie_script_genderize_df)}\")\n",
    "\n",
    "# Check the unique values in gender to check that only f and m are there\n",
    "print(movie_script_genderize_df['gender'].unique())\n",
    "\n",
    "# Remove any characters that have less than 5 lines of dialogue\n",
    "print(f\"number of lines before cutting <5: {len(movie_script_genderize_df)}\")\n",
    "\n",
    "line_counts = movie_script_genderize_df['characterID'].value_counts() # Count the number of lines for each character\n",
    "characters_with_5_or_more_lines = line_counts[line_counts >= 5].index # Keep only characters with 5 or more lines\n",
    "movie_script_genderize_df = movie_script_genderize_df[movie_script_genderize_df['characterID'].isin(characters_with_5_or_more_lines)] # Filter the movie_script_genderize_df to keep only rows where characterID is in the list of characters with 5+ lines\n",
    "\n",
    "print(f\"number of lines after cutting <5: {len(movie_script_genderize_df)}\")\n",
    "\n",
    "# Check the heading\n",
    "print(movie_script_genderize_df.head())"
   ]
  },
  {
   "cell_type": "markdown",
   "metadata": {},
   "source": [
    "### Check how many movies, characters, and dialogue lines are left + when the movies are from"
   ]
  },
  {
   "cell_type": "code",
   "execution_count": 44,
   "metadata": {},
   "outputs": [
    {
     "name": "stdout",
     "output_type": "stream",
     "text": [
      "Number of movies: 616\n",
      "Number of characters: 5929\n",
      "Total number of dialog lines: 278176\n"
     ]
    }
   ],
   "source": [
    "print(f\"Number of movies: {movie_script_genderize_df['movieID'].nunique()}\")\n",
    "\n",
    "print(f\"Number of characters: {movie_script_genderize_df['characterID'].nunique()}\")\n",
    "\n",
    "print(f\"Total number of dialog lines: {len(movie_script_genderize_df)}\")"
   ]
  },
  {
   "cell_type": "code",
   "execution_count": 45,
   "metadata": {},
   "outputs": [
    {
     "name": "stdout",
     "output_type": "stream",
     "text": [
      "   Decade  Movie Count\n",
      "0    1920            2\n",
      "1    1930           16\n",
      "2    1940           15\n",
      "3    1950           17\n",
      "4    1960           19\n",
      "5    1970           51\n",
      "6    1980          108\n",
      "7    1990          244\n",
      "8    2000          143\n",
      "9    2010            1\n"
     ]
    },
    {
     "name": "stderr",
     "output_type": "stream",
     "text": [
      "/tmp/ipykernel_34190/1260695505.py:8: SettingWithCopyWarning: \n",
      "A value is trying to be set on a copy of a slice from a DataFrame.\n",
      "Try using .loc[row_indexer,col_indexer] = value instead\n",
      "\n",
      "See the caveats in the documentation: https://pandas.pydata.org/pandas-docs/stable/user_guide/indexing.html#returning-a-view-versus-a-copy\n",
      "  unique_movies_df['decade'] = (unique_movies_df['movie_year'] // 10) * 10\n"
     ]
    }
   ],
   "source": [
    "# Convert the 'movie_year' column to numeric values (integers)\n",
    "movie_script_genderize_df['movie_year'] = pd.to_numeric(movie_script_genderize_df['movie_year'], errors='coerce')\n",
    "\n",
    "# Drop duplicate movies based on 'movieID'\n",
    "unique_movies_df = movie_script_genderize_df.drop_duplicates(subset=['movieID'])\n",
    "\n",
    "# Create a new column for the decade (round down to nearest 10)\n",
    "unique_movies_df['decade'] = (unique_movies_df['movie_year'] // 10) * 10\n",
    "\n",
    "# Group by decade and count the number of unique movies\n",
    "decade_counts = unique_movies_df.groupby('decade')['movie_year'].count()\n",
    "\n",
    "# Convert the result into a DataFrame for better display\n",
    "decade_counts_df = pd.DataFrame(decade_counts).reset_index()\n",
    "decade_counts_df.columns = ['Decade', 'Movie Count']\n",
    "\n",
    "# Display the table\n",
    "print(decade_counts_df)"
   ]
  },
  {
   "cell_type": "code",
   "execution_count": 46,
   "metadata": {},
   "outputs": [
    {
     "name": "stdout",
     "output_type": "stream",
     "text": [
      "      lineID characterID movieID character_name  \\\n",
      "0     L1045           u0      m0         BIANCA   \n",
      "669   L2181          u12      m1         ALONSO   \n",
      "942   L3546          u26      m2         CUTLER   \n",
      "1614  L3778          u55      m3          FLOYD   \n",
      "1886  L5048          u75      m4         LUTHER   \n",
      "\n",
      "                                  text_of_the_utterance gender  movie_year  \\\n",
      "0                                          They do not!      f        1999   \n",
      "669   Can't be that far, I say.  Also, I don't like ...      m        1992   \n",
      "942   Officers, there's your killer, do your duty, a...      m        2001   \n",
      "1614          We're trying to get there. I hope we can.      m        1968   \n",
      "1886                                 Great, just great.      m        1982   \n",
      "\n",
      "      decade  \n",
      "0       1990  \n",
      "669     1990  \n",
      "942     2000  \n",
      "1614    1960  \n",
      "1886    1980  \n"
     ]
    }
   ],
   "source": [
    "print(unique_movies_df.head())"
   ]
  },
  {
   "cell_type": "code",
   "execution_count": 47,
   "metadata": {},
   "outputs": [
    {
     "name": "stdout",
     "output_type": "stream",
     "text": [
      "   Decade  Female Characters  Male Characters\n",
      "0    1920                  1                6\n",
      "1    1930                 43              128\n",
      "2    1940                 51              105\n",
      "3    1950                 49               99\n",
      "4    1960                 48              130\n",
      "5    1970                132              365\n",
      "6    1980                293              699\n",
      "7    1990                704             1682\n",
      "8    2000                462              921\n",
      "9    2010                  3                8\n"
     ]
    },
    {
     "name": "stderr",
     "output_type": "stream",
     "text": [
      "/tmp/ipykernel_34190/3517490537.py:9: SettingWithCopyWarning: \n",
      "A value is trying to be set on a copy of a slice from a DataFrame.\n",
      "Try using .loc[row_indexer,col_indexer] = value instead\n",
      "\n",
      "See the caveats in the documentation: https://pandas.pydata.org/pandas-docs/stable/user_guide/indexing.html#returning-a-view-versus-a-copy\n",
      "  unique_characters_df['decade'] = (unique_characters_df['movie_year'] // 10) * 10\n"
     ]
    }
   ],
   "source": [
    "# Create decade\n",
    "# Convert the 'movie_year' column to numeric values (integers)\n",
    "movie_script_genderize_df['movie_year'] = pd.to_numeric(movie_script_genderize_df['movie_year'], errors='coerce')\n",
    "\n",
    "# Drop duplicate movies based on 'characterID'\n",
    "unique_characters_df = movie_script_genderize_df.drop_duplicates(subset=['characterID'])\n",
    "\n",
    "# Create a new column for the decade (round down to nearest 10)\n",
    "unique_characters_df['decade'] = (unique_characters_df['movie_year'] // 10) * 10\n",
    "\n",
    "# Group by decade and gender\n",
    "decade_counts = unique_characters_df.groupby(['decade', 'gender']).size().reset_index(name='count')\n",
    "\n",
    "# Pivot the table to separate female and male counts\n",
    "decade_pivot = decade_counts.pivot(index='decade', columns='gender', values='count').reset_index()\n",
    "\n",
    "# Rename columns for clarity\n",
    "decade_pivot.columns = ['Decade', 'Female Characters', 'Male Characters']\n",
    "\n",
    "# Convert counts to integers (so it says e.g., 22 and not 22.0)\n",
    "decade_pivot['Female Characters'] = decade_pivot['Female Characters'].astype(int)\n",
    "decade_pivot['Male Characters'] = decade_pivot['Male Characters'].astype(int)\n",
    "\n",
    "# Display the table\n",
    "print(decade_pivot)"
   ]
  },
  {
   "cell_type": "markdown",
   "metadata": {},
   "source": [
    "### Save the dataframe for future use"
   ]
  },
  {
   "cell_type": "code",
   "execution_count": 48,
   "metadata": {},
   "outputs": [],
   "source": [
    "# Save the DataFrame to a CSV file\n",
    "movie_script_genderize_df.to_csv('/work/VNV/Module 1 - Data acqusition and preparation/output/movie_script_genderize_df.csv', index=False)"
   ]
  }
 ],
 "metadata": {
  "kernelspec": {
   "display_name": "Python 3",
   "language": "python",
   "name": "python3"
  },
  "language_info": {
   "codemirror_mode": {
    "name": "ipython",
    "version": 3
   },
   "file_extension": ".py",
   "mimetype": "text/x-python",
   "name": "python",
   "nbconvert_exporter": "python",
   "pygments_lexer": "ipython3",
   "version": "3.10.12"
  }
 },
 "nbformat": 4,
 "nbformat_minor": 2
}
